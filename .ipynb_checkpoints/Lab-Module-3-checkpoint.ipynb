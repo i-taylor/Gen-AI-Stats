{
 "cells": [
  {
   "cell_type": "markdown",
   "id": "0fe83b41-d3ea-4a79-9d55-3b2f5347d719",
   "metadata": {},
   "source": [
    "# Exploring Jupyter Lab and Datasets "
   ]
  },
  {
   "cell_type": "markdown",
   "id": "3ebf618d-4eda-4e1f-862c-84c92407b434",
   "metadata": {},
   "source": [
    "Having played around with this environment and with these datasets, you can keep doing that if you want. \n",
    "\n",
    "If you don't have a lot of experience with programming, one of the most stressful parts of it is setting up your environment so you can actually get to the programming. "
   ]
  },
  {
   "cell_type": "markdown",
   "id": "bafff79a-5015-4b31-b303-29228f468efa",
   "metadata": {},
   "source": [
    "## Our environment\n",
    "You're currently in a Jupyter Notebook (.ipynb) within a JupyterLab environment. The notebook file is what we're interacting with, using JupyterLab as the application. The primary language here is Python, though you might encounter code cells prefixed with `%`. These are called magic commands. For example, `%run script.py` runs an external Python script within the notebook."
   ]
  },
  {
   "cell_type": "markdown",
   "id": "7d45d9aa-3fbd-4c3b-9929-d8389773c07a",
   "metadata": {},
   "source": [
    "If you're new to programming, the idea of languages (e.g. Python) vs. filetypes (e.g. Jupyter Notebooks) vs. applications (like JupyterLab or VSCode) might all be a little confusing. But it's important to understand that you need a place to do your data analysis and that's where setting up something like a JupyterLab comes in. For the duration of this course, you can conveniently use this setup here, but if you want to continue afterwards, you'll need to set up your own environment elsewhere. There are courses dedicated to teaching you how to work with specific programming languages and they will usually go into some depth about what applications to use for your interactions. This is beyond the scope of this course, but we can briefly go over this environment here so you know what's going on if you want to replicate it.\n",
    "\n",
    "\n"
   ]
  },
  {
   "cell_type": "markdown",
   "id": "bbbd192a-1584-46ec-83f3-06ac9c11ce00",
   "metadata": {},
   "source": []
  }
 ],
 "metadata": {
  "kernelspec": {
   "display_name": "Python 3 (ipykernel)",
   "language": "python",
   "name": "python3"
  },
  "language_info": {
   "codemirror_mode": {
    "name": "ipython",
    "version": 3
   },
   "file_extension": ".py",
   "mimetype": "text/x-python",
   "name": "python",
   "nbconvert_exporter": "python",
   "pygments_lexer": "ipython3",
   "version": "3.10.14"
  },
  "widgets": {
   "application/vnd.jupyter.widget-state+json": {
    "state": {},
    "version_major": 2,
    "version_minor": 0
   }
  }
 },
 "nbformat": 4,
 "nbformat_minor": 5
}
