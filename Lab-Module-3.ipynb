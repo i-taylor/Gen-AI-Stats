{
 "cells": [
  {
   "cell_type": "markdown",
   "id": "0fe83b41-d3ea-4a79-9d55-3b2f5347d719",
   "metadata": {},
   "source": [
    "# Takeout: Download this Workspace and the Datasets"
   ]
  },
  {
   "cell_type": "markdown",
   "id": "011c8f8e-38d2-42e6-9cdb-426ca16810dc",
   "metadata": {},
   "source": [
    "If you're new to coding, one of the most frustrating things is the time and learning curve to setting up your own environment. That's why this little guide is here for you. By the end of this tutorial, you'll have replicated this cozy little data analysis environment on your own machine—giving you the freedom to explore datasets and expand your programming skills at your own pace.\n",
    "\n",
    "## Understanding Your Workspace\n",
    "\n",
    "You are currently working within a **Jupyter Notebook (.ipynb)**, which is part of the broader **JupyterLab** application. JupyterLab acts as a powerful interface where you can manage notebook documents, as well as other files and workflows.\n",
    "\n",
    "Here, **Python** is our primary language. Occasionally, you'll see code cells prefixed with `%`, known as \"magic commands.\" For instance, `%run script.py` executes an external Python script within your notebook, seamlessly integrating it into your workflow."
   ]
  },
  {
   "cell_type": "markdown",
   "id": "e3a3fd4e-16b3-4360-9ce6-344af83bd114",
   "metadata": {},
   "source": [
    "### Vocab\n",
    "::::{grid} 3 3 3\n",
    "\n",
    ":::{card}\n",
    ":header: Programming Languages 🖥️\n",
    "Like Python and R, you use them to write code and analyze data.\n",
    ":::\n",
    "\n",
    ":::{card}\n",
    ":header: File Types 📄\n",
    "Such as Jupyter Notebooks (.ipynb), these determine how your scripts and notes are saved and interacted with.\n",
    ":::\n",
    "\n",
    ":::{card}\n",
    ":header: Applications 🛠️\n",
    "Environments like JupyterLab or VSCode, where you run and manage your code.\n",
    ":::\n",
    "\n",
    "::::\n",
    "\n"
   ]
  },
  {
   "cell_type": "markdown",
   "id": "fe2baee4-b2d0-459a-8ef9-8bdff83f04ec",
   "metadata": {},
   "source": [
    "## Setting Up Your Own Environment\n",
    "If you've enjoyed working in this setup and want to continue beyond this course, setting up your own environment is the next step. Dedicated programming courses often cover specific applications and settings for the programming language they're teaching. I would **highly recommend** you go do one when you can! But if you want to keep the momentum, here's a quick guide to get you started with your own JupyterLab setup.\n",
    "\n",
    "And since this is a course on how to leverage AI for data analysis, I've included some suggested AI prompts to further guide you in the process. "
   ]
  },
  {
   "cell_type": "markdown",
   "id": "c0c02859-38fe-468a-81c7-f5cebfc26f8c",
   "metadata": {},
   "source": [
    "#### Step-by-Step Setup Guide\n",
    "\n",
    "1. **Accessing the Command Line**:\n",
    "::::{tab-set}\n",
    "\n",
    ":::{tab-item} Windows\n",
    ":sync: tab-windows\n",
    "#####\n",
    "Search for \"Command Prompt\" in your start menu, or press `Win + R`, type `cmd`, and hit enter.\n",
    "\n",
    ":::\n",
    "\n",
    ":::{tab-item} Mac\n",
    ":sync: tab-mac\n",
    "#####\n",
    "Open \"Terminal\" by going to Applications -> Utilities -> Terminal. You can also search for it using Spotlight by pressing `Cmd + Space` and typing \"Terminal\".\n",
    "\n",
    ":::\n",
    "\n",
    ":::{tab-item} Linux\n",
    ":sync: tab-linux\n",
    "#####\n",
    "Typically, you can access the terminal by pressing `Ctrl + Alt + T` or by searching for \"Terminal\" in your system’s applications menu.\n",
    "\n",
    ":::\n",
    "\n",
    "::::\n",
    "\n",
    ":::{hint} Example prompt:\n",
    ">How do I open the command line on {insert Operating System here}?\n",
    ">\n",
    ":::"
   ]
  },
  {
   "cell_type": "markdown",
   "id": "1c3a93da-0bca-46ea-915f-e881c413f3ac",
   "metadata": {},
   "source": [
    "2. **Check for Git**:\n",
    "   Once your command line or terminal is open, check if you have Git installed by typing the following and then pressing Enter:\n",
    "   ```bash\n",
    "   git --version\n",
    "   ```\n",
    "   If the terminal shows a version number, Git is installed. If not, you’ll need to install it.\n",
    "\n",
    ":::{hint} Example prompt:\n",
    ">How can I check if Git is installed on my system?\n",
    ">\n",
    ":::"
   ]
  },
  {
   "cell_type": "markdown",
   "id": "1c765d89-2200-4d20-aa54-498073083d52",
   "metadata": {},
   "source": [
    "3. **Install Git (if necessary)**:\n",
    "   - If you don't have Git, download and install it from [git-scm.com](https://git-scm.com/downloads). Follow the instructions on the website for your operating system.\n",
    "  \n",
    ":::{hint} Example prompt:\n",
    ">How do I install Git on {insert Operating System}?\n",
    ">\n",
    ":::"
   ]
  },
  {
   "cell_type": "markdown",
   "id": "8858e0e3-384e-4231-ab5b-e5286ec74d76",
   "metadata": {},
   "source": [
    "4. **Install Anaconda or Miniconda**:\n",
    "   - Download and install either Anaconda or Miniconda:\n",
    "     - [Anaconda](https://www.anaconda.com/products/distribution) (more pre-installed packages)\n",
    "     - [Miniconda](https://docs.conda.io/en/latest/miniconda.html) (lighter version)\n",
    "   Follow the installation guides on their respective websites, suitable for your OS.\n",
    "\n",
    ":::{hint} Example prompts:\n",
    ">What is the difference between Anaconda and Miniconda, and which should I install for my Python projects?\n",
    "\n",
    "Or, more advanced:\n",
    "> What's an alternative to conda for managing python packages and environments?\n",
    ":::"
   ]
  },
  {
   "cell_type": "markdown",
   "id": "e226d277-52bb-4528-a973-89e8ed94a3bc",
   "metadata": {},
   "source": [
    "5. **Clone the Repository**:\n",
    "   \n",
    "Navigate back to your terminal. It's a good idea to keep all your GitHub projects in one place. You can create a directory (folder) called `GitHub` and make it a habit to clone any projects there.\n",
    "\t\n",
    "Type the following commands in your terminal to make a GitHub folder in your home directory and change to that directory:\n",
    "```bash\n",
    "cd ~\n",
    "mkdir GitHub\n",
    "cd GitHub\n",
    "\n",
    "```\n",
    "\n",
    "Now you can clone the directory from GitHub.\n",
    "\n",
    "Type the following in your terminal and press Enter:\n",
    "```bash\n",
    "git clone https://github.com/lasisilab/ai-data-analysis-course.git\n",
    "cd ai-data-analysis-course\n",
    "```\n",
    "\n",
    ":::{hint} **Example prompt:** \n",
    "If you don't see yourself primarily using the commandline for this purpose in the future, I highly recommend [GitHub Desktop](https://github.com/apps/desktop) as a nice app with a good interface to deal with all your git-related needs. If you need more guidance on setup, AI is your friend:\n",
    "\n",
    "> What's the pros and cons of using GitHub Desktop? And how do I set it up on my computer?\n",
    ">\n",
    ":::"
   ]
  },
  {
   "cell_type": "markdown",
   "id": "36dacdd7-b84e-4015-8235-ca0efe1c83c9",
   "metadata": {},
   "source": [
    "6. **Create and Activate Your Environment**:\n",
    "\n",
    "   There are different versions of python and there are different versions of many of the Python packages that you can run. To avoid issues, people tend to create separate virtual environments to run different projects in. That way, when you make a project, all the settings you used to run it can be frozen and replicated exactly.\n",
    "   For this course, we have saved those settings in an environment.yml file.\n",
    "   Now, create a conda environment using the `environment.yml` file by typing this into the command line:\n",
    "   ```bash\n",
    "   conda env create -f environment.yml -n ai-data-course-env\n",
    "   conda activate ai-data-course-env\n",
    "   ```\n",
    "\tIn the future, if you want to use it again, you'll have to type in:\n",
    "\n",
    "   ```bash\n",
    "   conda activate ai-data-course-env\n",
    "   ```\n",
    "\tIf you are done with it and/or need to set up a separate environment, you'll want to deactivate it with:\n",
    "\n",
    "   ```bash\n",
    "   conda deactivate\n",
    "   ```\n",
    "   Don't do this yet, though! We still want to start up the JupyterLab workspace!"
   ]
  },
  {
   "cell_type": "markdown",
   "id": "2723267b-3bfb-406a-b6c2-4c48ac24b427",
   "metadata": {},
   "source": [
    ":::{hint}\n",
    "\n",
    "You can use GenAI to tweak your command line interface. As someone who uses Terminal (MacOS), I have used it to edit my bash_profile, which configures the interface I use. You can get some help with that by asking:\n",
    "\n",
    "> How can I change the appearance of my command line interface?\n",
    "\n",
    "It's also a good idea to keep an eye on where things get downloaded. There are many ways to deal with python versions, environments, and packages. It's easy to get multiple versions of things and have them conflict. Consider periodically checking in with:\n",
    "\n",
    "> How can I find out where my python versions/environments/packages are on my machine?\n",
    "\n",
    ":::"
   ]
  },
  {
   "cell_type": "markdown",
   "id": "9253ce85-1015-4fa7-8676-bacea5f81c98",
   "metadata": {},
   "source": [
    "7. **Launch JupyterLab**:\n",
    "   With the environment activated, you can start JupyterLab by typing:\n",
    "   ```bash\n",
    "   jupyter lab\n",
    "   ```\n",
    "   This will open JupyterLab in your default web browser, where you can start exploring your notebooks.\n"
   ]
  },
  {
   "cell_type": "markdown",
   "id": "a22eebaa-b629-4e5c-a1e2-c08f49e3e7b6",
   "metadata": {},
   "source": [
    "# Save and Share "
   ]
  },
  {
   "cell_type": "markdown",
   "id": "e58e36ca-14b3-4826-b55c-5117c364024c",
   "metadata": {},
   "source": []
  }
 ],
 "metadata": {
  "kernelspec": {
   "display_name": "Python 3 (ipykernel)",
   "language": "python",
   "name": "python3"
  },
  "language_info": {
   "codemirror_mode": {
    "name": "ipython",
    "version": 3
   },
   "file_extension": ".py",
   "mimetype": "text/x-python",
   "name": "python",
   "nbconvert_exporter": "python",
   "pygments_lexer": "ipython3",
   "version": "3.10.14"
  },
  "widgets": {
   "application/vnd.jupyter.widget-state+json": {
    "state": {},
    "version_major": 2,
    "version_minor": 0
   }
  }
 },
 "nbformat": 4,
 "nbformat_minor": 5
}
