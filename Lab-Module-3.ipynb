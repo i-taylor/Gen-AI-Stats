{
 "cells": [
  {
   "cell_type": "markdown",
   "id": "0fe83b41-d3ea-4a79-9d55-3b2f5347d719",
   "metadata": {},
   "source": [
    "# Takeout: Download this Workspace and the Datasets"
   ]
  },
  {
   "cell_type": "markdown",
   "id": "318cde2a-cfed-419a-9a9a-ddfe13ef3841",
   "metadata": {},
   "source": [
    "If you're new to coding, one of the most frustrating things is the time and learning curve to setting up your own environment. That's why this little guide is here for you. By the end of this tutorial, you'll have replicated this cozy little data analysis environment on your own machine—giving you the freedom to explore datasets and expand your programming skills at your own pace.\n",
    "\n",
    "### Understanding Your Workspace\n",
    "\n",
    "You are currently working within a **Jupyter Notebook (.ipynb)**, which is part of the broader **JupyterLab** application. JupyterLab acts as a powerful interface where you can manage notebook documents, as well as other files and workflows.\n",
    "\n",
    "Here, **Python** is our primary language. Occasionally, you'll see code cells prefixed with `%`, known as \"magic commands.\" For instance, `%run script.py` executes an external Python script within your notebook, seamlessly integrating it into your workflow.\n",
    "\n",
    "#### Vocab\n",
    "- **Programming Languages**: Like Python and R, you use them to write code and analyze data.\n",
    "- **File Types**: Such as Jupyter Notebooks (.ipynb), these determine how your scripts and notes are saved and interacted with.\n",
    "- **Applications**: Environments like JupyterLab or VSCode, where you run and manage your code.\n",
    "\n",
    "### Setting Up Your Own Environment\n",
    "If you've enjoyed working in this setup and want to continue beyond this course, setting up your own environment is the next step. Dedicated programming courses often cover specific applications and settings for the programming language they're teaching. I would **highly recommend** you go do one when you can! But if you want to keep the momentum, here's a quick guide to get you started with your own JupyterLab setup.\n",
    "\n",
    "And since this is a course on how to leverage AI for data analysis, I've included some suggested AI prompts to further guide you in the process. "
   ]
  },
  {
   "cell_type": "markdown",
   "id": "c0c02859-38fe-468a-81c7-f5cebfc26f8c",
   "metadata": {},
   "source": [
    "#### Step-by-Step Setup Guide\n",
    "\n",
    "1. **Accessing the Command Line**:\n",
    "   - **Windows**: \n",
    "     Search for \"Command Prompt\" in your start menu, or press `Win + R`, type `cmd`, and hit enter. Alternatively, you can search for \"Git Bash\" if you have Git installed, which provides a Unix-like terminal.\n",
    "   - **Mac**:\n",
    "     Open \"Terminal\" by going to Applications -> Utilities -> Terminal. You can also search for it using Spotlight by pressing `Cmd + Space` and typing \"Terminal\".\n",
    "   - **Linux**:\n",
    "     Typically, you can access the terminal by pressing `Ctrl + Alt + T` or by searching for \"Terminal\" in your system’s applications menu."
   ]
  },
  {
   "cell_type": "markdown",
   "id": "1c3a93da-0bca-46ea-915f-e881c413f3ac",
   "metadata": {},
   "source": [
    "2. **Check for Git**:\n",
    "   Once your command line or terminal is open, check if you have Git installed by typing the following and then pressing Enter:\n",
    "   ```bash\n",
    "   git --version\n",
    "   ```\n",
    "   If the terminal shows a version number, Git is installed. If not, you’ll need to install it."
   ]
  },
  {
   "cell_type": "markdown",
   "id": "c6681346-a813-445f-b175-2b933f78df6d",
   "metadata": {},
   "source": [
    "3. **Install Git (if necessary)**:\n",
    "   - If you don't have Git, download and install it from [git-scm.com](https://git-scm.com/downloads). Follow the instructions on the website for your operating system.\n",
    "\n",
    "4. **Install Anaconda or Miniconda**:\n",
    "   - Download and install either Anaconda or Miniconda:\n",
    "     - [Anaconda](https://www.anaconda.com/products/distribution) (more pre-installed packages)\n",
    "     - [Miniconda](https://docs.conda.io/en/latest/miniconda.html) (lighter version)\n",
    "   Follow the installation guides on their respective websites, suitable for your OS.\n",
    "\n",
    "5. **Clone the Repository**:\n",
    "   Type the following in your terminal and press Enter:\n",
    "   ```bash\n",
    "   git clone https://github.com/yourusername/yourrepository.git\n",
    "   cd yourrepository\n",
    "   ```\n",
    "\n",
    "6. **Create and Activate Your Environment**:\n",
    "   Now, create a conda environment using the `environment.yml` file:\n",
    "   ```bash\n",
    "   conda env create -f environment.yml\n",
    "   conda activate myenv\n",
    "   ```\n",
    "\n",
    "7. **Launch JupyterLab**:\n",
    "   With the environment activated, start JupyterLab by typing:\n",
    "   ```bash\n",
    "   jupyter lab\n",
    "   ```\n",
    "   This will open JupyterLab in your default web browser, where you can start exploring your notebooks.\n",
    "\n",
    "By including specific instructions on how to open and use the command line, you help demystify one of the first hurdles that beginners might face, making the setup process feel more accessible."
   ]
  },
  {
   "cell_type": "markdown",
   "id": "a22eebaa-b629-4e5c-a1e2-c08f49e3e7b6",
   "metadata": {},
   "source": []
  }
 ],
 "metadata": {
  "kernelspec": {
   "display_name": "Python 3 (ipykernel)",
   "language": "python",
   "name": "python3"
  },
  "language_info": {
   "codemirror_mode": {
    "name": "ipython",
    "version": 3
   },
   "file_extension": ".py",
   "mimetype": "text/x-python",
   "name": "python",
   "nbconvert_exporter": "python",
   "pygments_lexer": "ipython3",
   "version": "3.10.14"
  },
  "widgets": {
   "application/vnd.jupyter.widget-state+json": {
    "state": {},
    "version_major": 2,
    "version_minor": 0
   }
  }
 },
 "nbformat": 4,
 "nbformat_minor": 5
}
