{
 "cells": [
  {
   "cell_type": "markdown",
   "id": "37b53b8a",
   "metadata": {},
   "source": [
    "# Assignment 1: Locating and Exploring Datasets\n",
    "\n",
    "Welcome to the first assignment of the course 'AI-powered Data Analysis'. In this assignment, you will learn how to locate and open datasets stored as CSV files, understand their structure, and explore their components.\n",
    "\n",
    "*Again, you are not required to write any code; just run the cells and observe the outputs, except for the 'Reflection Prompt' section at the end.*\n",
    "\n",
    "\n",
    "## Introduction\n",
    "\n",
    "In this assignment, we will explore the process of data analysis, starting from the very basics of locating and opening datasets saved as CSV files, understanding their structure, and exploring their components.\n",
    "\n",
    "### Importance of Metadata\n",
    "\n",
    "When given a dataset, the first step is to look at the metadata. Metadata provides crucial information about the data, such as:\n",
    "- The structure of the dataset (e.g., column names, data types)\n",
    "- Descriptions of the data fields\n",
    "- Information about the source and context of the data\n",
    "\n",
    "Understanding the metadata is beneficial because:\n",
    "- It helps in comprehending the dataset's structure and content.\n",
    "- It provides insights into the data quality and potential preprocessing steps needed.\n",
    "- It aids in planning the data analysis and visualization strategies effectively.\n",
    "\n",
    "### Datasets Overview\n",
    "\n",
    "We will be using three datasets in this assignment:\n",
    "\n",
    "1. **NOAA Weather Dataset**\n",
    "    - This dataset contains weather data collected by the National Oceanic and Atmospheric Administration (NOAA).\n",
    "    - [Link to Metadata](#)\n",
    "\n",
    "2. **Kaggle Ecommerce Dataset**\n",
    "    - This dataset comprises e-commerce data from Kaggle, including information about transactions, products, and customers.\n",
    "    - [Link to Metadata](#)\n",
    "\n",
    "3. **Yelp Reviews Dataset**\n",
    "    - This dataset includes reviews from Yelp, with columns such as 'ProductId', 'UserId', 'ProfileName', 'HelpfulnessNumerator', 'HelpfulnessDenominator', 'Score', 'Time', 'Summary', and 'Text'.\n",
    "    - [Link to Metadata](#)\n",
    "\n",
    "After understanding the metadata and the structure of our datasets, we will proceed with coding to explore and analyze the data.\n",
    "\n",
    "\n",
    "### Datasets Information\n",
    "\n",
    "In this course, we have three different datasets housed within the following file directory structure:\n",
    "\n",
    "```\n",
    "Datasets/\n",
    "│\n",
    "├── NOAA_Weather/\n",
    "│   ├── 31285099999.csv\n",
    "│   ├── 72484653123.csv\n",
    "│   └── 99999926563.csv\n",
    "│\n",
    "├── Kaggle_Ecommerce/\n",
    "│   ├── bank_churners.csv\n",
    "│   ├── shopping_behavior.csv\n",
    "│\n",
    "└── Yelp_Reviews/\n",
    "    ├── reviews.csv\n",
    "```\n",
    "\n",
    "As you can see, a dataset may contain multiple CSV files. For this assignment, we will be using the `bank_churners.csv` file in the `Kaggle_Ecommerce` folder.\n"
   ]
  },
  {
   "cell_type": "markdown",
   "id": "d9cb6510",
   "metadata": {},
   "source": [
    "## Introduction to Dataset Overview and Metadata\n",
    "\n",
    "Before diving into data analysis, it is crucial to get an overview of the dataset and understand its metadata. This initial step provides valuable insights into the data's structure, quality, and the types of information it contains.\n",
    "\n",
    "### Why Summarize the Dataset Overview?\n",
    "\n",
    "- **Quick Insights:** A summary gives a quick glance at the main features of the dataset.\n",
    "- **Data Quality:** Helps in identifying any immediate data quality issues.\n",
    "- **Preparation for Analysis:** Prepares the ground for more detailed data analysis and visualization."
   ]
  },
  {
   "cell_type": "markdown",
   "id": "8f1e7eb9-9a1d-4fe9-8a95-da98396921ff",
   "metadata": {},
   "source": [
    "<div style=\"background-color: #ADD8E6; padding: 10px;\">\n",
    "\n",
    "🤖 \n",
    "<br>\n",
    "**Before starting, it would be beneficial to use a Generative AI platform of your choice and inquire about the relevant information you can gather about a dataset**\n",
    "\n",
    "This is one of the many 'Ask Gen-AI' prompts included throughout the assignments. When you see a cell with a blue background, take a moment to pause and try out the prompt and its variations. This practice will enhance your ability to ask precise questions to AI, ultimately making your work more efficient and streamlined.\n",
    "\n",
    "</div>"
   ]
  },
  {
   "cell_type": "markdown",
   "id": "9dd50b02",
   "metadata": {},
   "source": [
    "## 1. Locating and Opening CSV Files\n",
    "\n",
    "First, let's locate and open the CSV files. We'll use the Kaggle Ecommerce Data for this exercise."
   ]
  },
  {
   "cell_type": "markdown",
   "id": "42159aab",
   "metadata": {},
   "source": [
    "### List all files in the `Kaggle Ecommerce` folder\n",
    "We will use the `os` module to list all files in the folder.\n",
    "\n",
    "1. **Import the `os` module**\n",
    "\n",
    "```python\n",
    "import os\n",
    "```\n",
    "\n",
    "The `os` module provides functions to interact with the operating system, such as listing files in a directory.\n",
    "\n",
    "2. **List all files in the `Kaggle Ecommerce` folder**\n",
    "\n",
    "```python\n",
    "files = os.listdir('../Datasets/Kaggle_Ecommerce')\n",
    "files\n",
    "```\n",
    "\n",
    "- `os.listdir('../Datasets/Kaggle_Ecommerce')` lists all files and directories in the `Kaggle_Ecommerce` folder.\n",
    "- The result is stored in the variable `files`.\n",
    "- `files` is then displayed to show the list of files."
   ]
  },
  {
   "cell_type": "code",
   "execution_count": 1,
   "id": "f44d6e18",
   "metadata": {},
   "outputs": [
    {
     "data": {
      "text/plain": [
       "['bank_churners.csv', 'shopping_behavior.csv']"
      ]
     },
     "execution_count": 1,
     "metadata": {},
     "output_type": "execute_result"
    }
   ],
   "source": [
    "import os\n",
    "\n",
    "# List all files in the folder\n",
    "files = os.listdir('../Datasets/Kaggle_Ecommerce')\n",
    "files"
   ]
  },
  {
   "cell_type": "markdown",
   "id": "418b610a",
   "metadata": {},
   "source": [
    "### Explanation of the above code cell\n",
    "The above code cell imports the `os` module and lists all files in the `Kaggle_Ecommerce` folder. The `os.listdir()` function retrieves the names of all files and directories in the specified folder. The result is stored in the variable `files`, which is then displayed. This helps in identifying the available CSV files for further analysis."
   ]
  },
  {
   "cell_type": "markdown",
   "id": "99074f60",
   "metadata": {},
   "source": [
    "### Read and display the first few rows of a CSV file\n",
    "We will use the `pandas` library to read the CSV file and display its first few rows.\n",
    "\n",
    "1. **Import the `pandas` library**\n",
    "\n",
    "```python\n",
    "import pandas as pd\n",
    "```\n",
    "\n",
    "The `pandas` library is used for data manipulation and analysis.\n",
    "\n",
    "2. **Read the first CSV file**\n",
    "\n",
    "```python\n",
    "file_path = os.path.join('../Datasets/Kaggle_Ecommerce', files[0])\n",
    "```\n",
    "\n",
    "- `os.path.join('../Datasets/Kaggle_Ecommerce', files[0])` creates the full path to the first file in the `Kaggle_Ecommerce` folder.\n",
    "- The result is stored in the variable `file_path`.\n",
    "\n",
    "3. **Load the CSV file into a DataFrame**\n",
    "\n",
    "```python\n",
    "df = pd.read_csv(file_path)\n",
    "```\n",
    "\n",
    "- `pd.read_csv(file_path)` reads the CSV file and loads its contents into a `pandas` DataFrame.\n",
    "- The DataFrame is stored in the variable `df`.\n",
    "\n",
    "4. **Display the first few rows of the DataFrame**\n",
    "\n",
    "```python\n",
    "df.head()\n",
    "```\n",
    "\n",
    "- `df.head()` displays the first five rows of the DataFrame."
   ]
  },
  {
   "cell_type": "code",
   "execution_count": 2,
   "id": "5841ee12",
   "metadata": {},
   "outputs": [
    {
     "data": {
      "text/html": [
       "<div>\n",
       "<style scoped>\n",
       "    .dataframe tbody tr th:only-of-type {\n",
       "        vertical-align: middle;\n",
       "    }\n",
       "\n",
       "    .dataframe tbody tr th {\n",
       "        vertical-align: top;\n",
       "    }\n",
       "\n",
       "    .dataframe thead th {\n",
       "        text-align: right;\n",
       "    }\n",
       "</style>\n",
       "<table border=\"1\" class=\"dataframe\">\n",
       "  <thead>\n",
       "    <tr style=\"text-align: right;\">\n",
       "      <th></th>\n",
       "      <th>CLIENTNUM</th>\n",
       "      <th>Attrition_Flag</th>\n",
       "      <th>Customer_Age</th>\n",
       "      <th>Gender</th>\n",
       "      <th>Dependent_count</th>\n",
       "      <th>Education_Level</th>\n",
       "      <th>Marital_Status</th>\n",
       "      <th>Income_Category</th>\n",
       "      <th>Card_Category</th>\n",
       "      <th>Months_on_book</th>\n",
       "      <th>...</th>\n",
       "      <th>Months_Inactive_12_mon</th>\n",
       "      <th>Contacts_Count_12_mon</th>\n",
       "      <th>Credit_Limit</th>\n",
       "      <th>Total_Revolving_Bal</th>\n",
       "      <th>Avg_Open_To_Buy</th>\n",
       "      <th>Total_Amt_Chng_Q4_Q1</th>\n",
       "      <th>Total_Trans_Amt</th>\n",
       "      <th>Total_Trans_Ct</th>\n",
       "      <th>Total_Ct_Chng_Q4_Q1</th>\n",
       "      <th>Avg_Utilization_Ratio</th>\n",
       "    </tr>\n",
       "  </thead>\n",
       "  <tbody>\n",
       "    <tr>\n",
       "      <th>0</th>\n",
       "      <td>768805383</td>\n",
       "      <td>Existing Customer</td>\n",
       "      <td>45</td>\n",
       "      <td>M</td>\n",
       "      <td>3</td>\n",
       "      <td>High School</td>\n",
       "      <td>Married</td>\n",
       "      <td>$60K - $80K</td>\n",
       "      <td>Blue</td>\n",
       "      <td>39</td>\n",
       "      <td>...</td>\n",
       "      <td>1</td>\n",
       "      <td>3</td>\n",
       "      <td>12691.0</td>\n",
       "      <td>777</td>\n",
       "      <td>11914.0</td>\n",
       "      <td>1.335</td>\n",
       "      <td>1144</td>\n",
       "      <td>42</td>\n",
       "      <td>1.625</td>\n",
       "      <td>0.061</td>\n",
       "    </tr>\n",
       "    <tr>\n",
       "      <th>1</th>\n",
       "      <td>818770008</td>\n",
       "      <td>Existing Customer</td>\n",
       "      <td>49</td>\n",
       "      <td>F</td>\n",
       "      <td>5</td>\n",
       "      <td>Graduate</td>\n",
       "      <td>Single</td>\n",
       "      <td>Less than $40K</td>\n",
       "      <td>Blue</td>\n",
       "      <td>44</td>\n",
       "      <td>...</td>\n",
       "      <td>1</td>\n",
       "      <td>2</td>\n",
       "      <td>8256.0</td>\n",
       "      <td>864</td>\n",
       "      <td>7392.0</td>\n",
       "      <td>1.541</td>\n",
       "      <td>1291</td>\n",
       "      <td>33</td>\n",
       "      <td>3.714</td>\n",
       "      <td>0.105</td>\n",
       "    </tr>\n",
       "    <tr>\n",
       "      <th>2</th>\n",
       "      <td>713982108</td>\n",
       "      <td>Existing Customer</td>\n",
       "      <td>51</td>\n",
       "      <td>M</td>\n",
       "      <td>3</td>\n",
       "      <td>Graduate</td>\n",
       "      <td>Married</td>\n",
       "      <td>$80K - $120K</td>\n",
       "      <td>Blue</td>\n",
       "      <td>36</td>\n",
       "      <td>...</td>\n",
       "      <td>1</td>\n",
       "      <td>0</td>\n",
       "      <td>3418.0</td>\n",
       "      <td>0</td>\n",
       "      <td>3418.0</td>\n",
       "      <td>2.594</td>\n",
       "      <td>1887</td>\n",
       "      <td>20</td>\n",
       "      <td>2.333</td>\n",
       "      <td>0.000</td>\n",
       "    </tr>\n",
       "    <tr>\n",
       "      <th>3</th>\n",
       "      <td>769911858</td>\n",
       "      <td>Existing Customer</td>\n",
       "      <td>40</td>\n",
       "      <td>F</td>\n",
       "      <td>4</td>\n",
       "      <td>High School</td>\n",
       "      <td>Unknown</td>\n",
       "      <td>Less than $40K</td>\n",
       "      <td>Blue</td>\n",
       "      <td>34</td>\n",
       "      <td>...</td>\n",
       "      <td>4</td>\n",
       "      <td>1</td>\n",
       "      <td>3313.0</td>\n",
       "      <td>2517</td>\n",
       "      <td>796.0</td>\n",
       "      <td>1.405</td>\n",
       "      <td>1171</td>\n",
       "      <td>20</td>\n",
       "      <td>2.333</td>\n",
       "      <td>0.760</td>\n",
       "    </tr>\n",
       "    <tr>\n",
       "      <th>4</th>\n",
       "      <td>709106358</td>\n",
       "      <td>Existing Customer</td>\n",
       "      <td>40</td>\n",
       "      <td>M</td>\n",
       "      <td>3</td>\n",
       "      <td>Uneducated</td>\n",
       "      <td>Married</td>\n",
       "      <td>$60K - $80K</td>\n",
       "      <td>Blue</td>\n",
       "      <td>21</td>\n",
       "      <td>...</td>\n",
       "      <td>1</td>\n",
       "      <td>0</td>\n",
       "      <td>4716.0</td>\n",
       "      <td>0</td>\n",
       "      <td>4716.0</td>\n",
       "      <td>2.175</td>\n",
       "      <td>816</td>\n",
       "      <td>28</td>\n",
       "      <td>2.500</td>\n",
       "      <td>0.000</td>\n",
       "    </tr>\n",
       "  </tbody>\n",
       "</table>\n",
       "<p>5 rows × 21 columns</p>\n",
       "</div>"
      ],
      "text/plain": [
       "   CLIENTNUM     Attrition_Flag  Customer_Age Gender  Dependent_count  \\\n",
       "0  768805383  Existing Customer            45      M                3   \n",
       "1  818770008  Existing Customer            49      F                5   \n",
       "2  713982108  Existing Customer            51      M                3   \n",
       "3  769911858  Existing Customer            40      F                4   \n",
       "4  709106358  Existing Customer            40      M                3   \n",
       "\n",
       "  Education_Level Marital_Status Income_Category Card_Category  \\\n",
       "0     High School        Married     $60K - $80K          Blue   \n",
       "1        Graduate         Single  Less than $40K          Blue   \n",
       "2        Graduate        Married    $80K - $120K          Blue   \n",
       "3     High School        Unknown  Less than $40K          Blue   \n",
       "4      Uneducated        Married     $60K - $80K          Blue   \n",
       "\n",
       "   Months_on_book  ...  Months_Inactive_12_mon  Contacts_Count_12_mon  \\\n",
       "0              39  ...                       1                      3   \n",
       "1              44  ...                       1                      2   \n",
       "2              36  ...                       1                      0   \n",
       "3              34  ...                       4                      1   \n",
       "4              21  ...                       1                      0   \n",
       "\n",
       "   Credit_Limit  Total_Revolving_Bal  Avg_Open_To_Buy  Total_Amt_Chng_Q4_Q1  \\\n",
       "0       12691.0                  777          11914.0                 1.335   \n",
       "1        8256.0                  864           7392.0                 1.541   \n",
       "2        3418.0                    0           3418.0                 2.594   \n",
       "3        3313.0                 2517            796.0                 1.405   \n",
       "4        4716.0                    0           4716.0                 2.175   \n",
       "\n",
       "   Total_Trans_Amt  Total_Trans_Ct  Total_Ct_Chng_Q4_Q1  Avg_Utilization_Ratio  \n",
       "0             1144              42                1.625                  0.061  \n",
       "1             1291              33                3.714                  0.105  \n",
       "2             1887              20                2.333                  0.000  \n",
       "3             1171              20                2.333                  0.760  \n",
       "4              816              28                2.500                  0.000  \n",
       "\n",
       "[5 rows x 21 columns]"
      ]
     },
     "execution_count": 2,
     "metadata": {},
     "output_type": "execute_result"
    }
   ],
   "source": [
    "import pandas as pd\n",
    "\n",
    "# Read the bank_churners CSV file\n",
    "file_path = os.path.join('../Datasets/Kaggle_Ecommerce', files[0])\n",
    "df = pd.read_csv(file_path)\n",
    "df.head()"
   ]
  },
  {
   "cell_type": "markdown",
   "id": "2c40d75b",
   "metadata": {},
   "source": [
    "The first five rows of the DataFrame are displayed using `df.head()`. This provides a quick overview of the data structure and the initial few records."
   ]
  },
  {
   "cell_type": "markdown",
   "id": "8ecb8108-2d8c-461f-b5ef-2e72e56ffb42",
   "metadata": {},
   "source": [
    "\n",
    "### Get the number of rows in the DataFrame\n",
    "\n",
    "We will use the `len()` function to get the number of rows in the DataFrame.\n",
    "\n",
    "1. **Get the number of rows**\n",
    "\n",
    "```python\n",
    "num_rows = len(df)\n",
    "num_rows"
   ]
  },
  {
   "cell_type": "code",
   "execution_count": 3,
   "id": "d4c38c7d-ea15-4b79-ac90-ccb8356d548b",
   "metadata": {},
   "outputs": [
    {
     "data": {
      "text/plain": [
       "10127"
      ]
     },
     "execution_count": 3,
     "metadata": {},
     "output_type": "execute_result"
    }
   ],
   "source": [
    "num_rows = len(df)\n",
    "num_rows"
   ]
  },
  {
   "cell_type": "markdown",
   "id": "145440f2",
   "metadata": {},
   "source": [
    "This number represents the total number of records in the dataset. This information is crucial for understanding the dataset's size."
   ]
  },
  {
   "cell_type": "markdown",
   "id": "33bffa51",
   "metadata": {},
   "source": [
    "## 2. Understanding the Structure\n",
    "\n",
    "Let's get more information about the dataset to understand its structure better."
   ]
  },
  {
   "cell_type": "markdown",
   "id": "60f4efc3-aeb1-4b3d-913c-bd16214f3280",
   "metadata": {},
   "source": [
    "### Get the column names in the DataFrame\n",
    "\n",
    "We will use the `.columns` attribute of the DataFrame to get the column names.\n",
    "\n",
    "1. **Get the column names**\n",
    "\n",
    "```python\n",
    "columns = df.columns\n",
    "columns"
   ]
  },
  {
   "cell_type": "code",
   "execution_count": 4,
   "id": "5de6f5d5-84b2-4626-a3b5-5bd63bacffc1",
   "metadata": {},
   "outputs": [
    {
     "data": {
      "text/plain": [
       "Index(['CLIENTNUM', 'Attrition_Flag', 'Customer_Age', 'Gender',\n",
       "       'Dependent_count', 'Education_Level', 'Marital_Status',\n",
       "       'Income_Category', 'Card_Category', 'Months_on_book',\n",
       "       'Total_Relationship_Count', 'Months_Inactive_12_mon',\n",
       "       'Contacts_Count_12_mon', 'Credit_Limit', 'Total_Revolving_Bal',\n",
       "       'Avg_Open_To_Buy', 'Total_Amt_Chng_Q4_Q1', 'Total_Trans_Amt',\n",
       "       'Total_Trans_Ct', 'Total_Ct_Chng_Q4_Q1', 'Avg_Utilization_Ratio'],\n",
       "      dtype='object')"
      ]
     },
     "execution_count": 4,
     "metadata": {},
     "output_type": "execute_result"
    }
   ],
   "source": [
    "columns = df.columns\n",
    "columns"
   ]
  },
  {
   "cell_type": "markdown",
   "id": "b3ada931",
   "metadata": {},
   "source": [
    "The list of items inside the square brackets `[]` is the columns that the DataFrame has. This allows you to see all the column names at a glance. This can be especially helpful when dealing with large datasets or when you want to programmatically interact with the columns."
   ]
  },
  {
   "cell_type": "markdown",
   "id": "71e99dfe",
   "metadata": {},
   "source": [
    "### Get basic information about the dataframe\n",
    "We will use the `info()` method to get a concise summary of the dataframe, including the number of non-null values and data types of each column.\n",
    "\n",
    "1. **Get a concise summary of the DataFrame**\n",
    "\n",
    "```python\n",
    "df.info()\n",
    "```\n",
    "\n",
    "- `df.info()` displays a concise summary of the DataFrame.\n",
    "- It shows the number of non-null values, data types of each column, and memory usage."
   ]
  },
  {
   "cell_type": "code",
   "execution_count": 5,
   "id": "10abbf04",
   "metadata": {},
   "outputs": [
    {
     "name": "stdout",
     "output_type": "stream",
     "text": [
      "<class 'pandas.core.frame.DataFrame'>\n",
      "RangeIndex: 10127 entries, 0 to 10126\n",
      "Data columns (total 21 columns):\n",
      " #   Column                    Non-Null Count  Dtype  \n",
      "---  ------                    --------------  -----  \n",
      " 0   CLIENTNUM                 10127 non-null  int64  \n",
      " 1   Attrition_Flag            10127 non-null  object \n",
      " 2   Customer_Age              10127 non-null  int64  \n",
      " 3   Gender                    10127 non-null  object \n",
      " 4   Dependent_count           10127 non-null  int64  \n",
      " 5   Education_Level           10127 non-null  object \n",
      " 6   Marital_Status            10127 non-null  object \n",
      " 7   Income_Category           10127 non-null  object \n",
      " 8   Card_Category             10127 non-null  object \n",
      " 9   Months_on_book            10127 non-null  int64  \n",
      " 10  Total_Relationship_Count  10127 non-null  int64  \n",
      " 11  Months_Inactive_12_mon    10127 non-null  int64  \n",
      " 12  Contacts_Count_12_mon     10127 non-null  int64  \n",
      " 13  Credit_Limit              10127 non-null  float64\n",
      " 14  Total_Revolving_Bal       10127 non-null  int64  \n",
      " 15  Avg_Open_To_Buy           10127 non-null  float64\n",
      " 16  Total_Amt_Chng_Q4_Q1      10127 non-null  float64\n",
      " 17  Total_Trans_Amt           10127 non-null  int64  \n",
      " 18  Total_Trans_Ct            10127 non-null  int64  \n",
      " 19  Total_Ct_Chng_Q4_Q1       10127 non-null  float64\n",
      " 20  Avg_Utilization_Ratio     10127 non-null  float64\n",
      "dtypes: float64(5), int64(10), object(6)\n",
      "memory usage: 1.6+ MB\n"
     ]
    }
   ],
   "source": [
    "df.info()"
   ]
  },
  {
   "cell_type": "markdown",
   "id": "8272257f-e275-4061-a08c-10afbd0f8a8e",
   "metadata": {},
   "source": [
    "**A detailed breakdown of the above output is:**\n",
    "\n",
    "\n",
    "**Class Type:**\n",
    "\n",
    "- The first line `<class 'pandas.core.frame.DataFrame'>` tells you that the object is a DataFrame.\n",
    "\n",
    "**Index Range:**\n",
    "\n",
    "- `RangeIndex: 10127 entries, 0 to 10126` indicates that the DataFrame has an Index with 10127 entries ranging from 0 to 10126.\n",
    "\n",
    "**Column Information:**\n",
    "\n",
    "- `Data columns (total 21 columns):` indicates that there are 21 columns in the DataFrame.\n",
    "\n",
    "**Column Details:**\n",
    "\n",
    "- For each column, you get the column number (starting from 0), the column name, the count of non-null values, and the data type\n",
    "- `non-null` means there are no null entries in the column\n",
    "\n",
    "**Data Types Summary**\n",
    "\n",
    "- `dtypes: float64(5), int64(10), object(6)` summarizes the data types present in the DataFrame and their counts, `object` in Pandas represents a string.\n",
    "\n",
    "**Memory** \n",
    "- `memory usage: ... MB` indicates the memory usage of the DataFrame."
   ]
  },
  {
   "cell_type": "markdown",
   "id": "26a97f9a-bc11-42ea-8f85-60ed5f9b84f1",
   "metadata": {},
   "source": [
    "<div style=\"background-color: #ADD8E6; padding: 10px;\">\n",
    "\n",
    "🤖\n",
    "## 3. Try It Yourself: Exploring Other Datasets\n",
    "\n",
    "Now that you have learned how to locate, open, and explore a CSV file, it's time for you to practice these steps with other datasets.\n",
    "Follow the instructions below and use Generative AI for any help you might need.\n",
    "\n",
    "### Instructions:\n",
    "\n",
    "1. **Choose a Dataset**:\n",
    "   - Navigate to the `Datasets` folder and choose a different dataset. For example, you can use the `NOAA_Weather` or `Yelp_Reviews` folder.\n",
    "\n",
    "\n",
    "2. **List All Files in the Chosen Folder**:\n",
    "   - Use the `os` module to list all files in the chosen folder. Here’s a template to get you started:\n",
    "   ```python\n",
    "   import os\n",
    "\n",
    "   # List all files in the chosen folder\n",
    "   folder_path = '../Datasets/NOAA_Weather'  # Change this to your chosen folder\n",
    "   files = os.listdir(folder_path)\n",
    "   print(files)\n",
    "\n",
    "\n",
    "3. **Get your hands dirty**:\n",
    "   - You can use the commands shown above, or something new that you might have gotten from Generative AI\n",
    "</div>"
   ]
  },
  {
   "cell_type": "markdown",
   "id": "a8858598-e46d-4519-bda3-127c0a3b6a6b",
   "metadata": {},
   "source": [
    "## 4. Reflection Exercise\n",
    "\n",
    "In this section, you will reflect on your learning experience and answer the following questions. Please provide your answers when prompted by the code.\n",
    "\n",
    "### Questions:\n",
    "\n",
    "1. **What would you describe as your field? Use a 1-2 word description.**\n",
    "2. **What is something that would be interesting for you to measure or track in your discipline?**\n",
    "\n",
    "Run the following two cells and input your answers in the text boxes that show up. Don't forget to press `Return` once you are done typing. In case you made a mistake or want to re-enter your answer, just run the corresponding cell again."
   ]
  },
  {
   "cell_type": "code",
   "execution_count": 6,
   "id": "e9a85e91-5e94-4048-a608-1b63dcf7c488",
   "metadata": {},
   "outputs": [
    {
     "name": "stdin",
     "output_type": "stream",
     "text": [
      "What would you describe as your field? Use a 1-2 word description. I am a primary school teacher.\n"
     ]
    }
   ],
   "source": [
    "field = input(\"What would you describe as your field? Use a 1-2 word description.\")"
   ]
  },
  {
   "cell_type": "code",
   "execution_count": 7,
   "id": "07ded0e3-5f7f-4ad6-ba17-a54711309e29",
   "metadata": {},
   "outputs": [
    {
     "name": "stdin",
     "output_type": "stream",
     "text": [
      "What is something that would be interesting for you to measure or track in your discipline? Student engagement during different times of the day.\n"
     ]
    }
   ],
   "source": [
    "measure = input(\"What is something that would be interesting for you to measure or track in your discipline?\")"
   ]
  },
  {
   "cell_type": "markdown",
   "id": "4c73cd20-bbee-4296-bc96-2051ba25a1f8",
   "metadata": {},
   "source": [
    "Running the following cell is really important, as this will save the answers you gave above. In case you change your answers to any of the above questions, please be sure to run the following cell again, to save the updated answers.\n",
    "\n",
    "You needn't be too concerned with what this code is really doing, but the crux is it is doing some string operations to convert your answers to a prompt, and then save that to a `.txt` file."
   ]
  },
  {
   "cell_type": "markdown",
   "id": "943afef1-30c3-4fd1-aa1c-723c6e2281c8",
   "metadata": {},
   "source": [
    "<div style=\"background-color: #ADD8E6; padding: 10px;\">\n",
    "\n",
    "🤖\n",
    "<br>\n",
    "You can give this code to Generative AI and ask what each of the lines are actually doing!\n",
    "\n",
    "</div>"
   ]
  },
  {
   "cell_type": "code",
   "execution_count": 8,
   "id": "22f01785-8225-4af2-a079-64f72c90ab58",
   "metadata": {},
   "outputs": [],
   "source": [
    "with open('..\\Prompts\\Assignment_1_given.txt', 'r') as file:\n",
    "    prompt = file.read()\n",
    "\n",
    "prompt = prompt.replace('***', field, 1)\n",
    "prompt = prompt.replace('***', measure, 1)\n",
    "\n",
    "with open('..\\Prompts\\Assignment_1.txt', 'w') as file:\n",
    "    file.write(prompt)"
   ]
  },
  {
   "cell_type": "markdown",
   "id": "d7655f82-1318-4ac3-8630-7f6d5a997f62",
   "metadata": {},
   "source": [
    "# Summary\n",
    "\n",
    "In this assignment, you have learned how to:\n",
    "- Locate and open CSV files\n",
    "- Understand the structure of a dataset\n",
    "- Explore the components of each dataset, such as column names and their respective data types\n",
    "\n",
    "This foundational knowledge is crucial for effective data analysis. Make sure you understand each step and feel free to explore further by modifying the cells and running them again."
   ]
  }
 ],
 "metadata": {
  "kernelspec": {
   "display_name": "Python 3 (ipykernel)",
   "language": "python",
   "name": "python3"
  },
  "language_info": {
   "codemirror_mode": {
    "name": "ipython",
    "version": 3
   },
   "file_extension": ".py",
   "mimetype": "text/x-python",
   "name": "python",
   "nbconvert_exporter": "python",
   "pygments_lexer": "ipython3",
   "version": "3.11.7"
  }
 },
 "nbformat": 4,
 "nbformat_minor": 5
}
