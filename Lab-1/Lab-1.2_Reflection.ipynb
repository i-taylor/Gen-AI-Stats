{
 "cells": [
  {
   "cell_type": "markdown",
   "id": "070bccff-3fa4-456a-a318-a4ff410c19ea",
   "metadata": {},
   "source": [
    "## 4. Reflection Exercise\n",
    "\n",
    "In this exercise, you will reflect on your learning experience and answer the following questions. Please provide your answers when prompted by the code.\n",
    "\n",
    "### Questions:\n",
    "\n",
    "1. **What would you describe as your field? Use a 1-2 word description.**\n",
    "2. **What is something that would be interesting for you to measure or track in your discipline?**\n",
    "\n",
    "Run the following two cells and input your answers in the text boxes that show up. Don't forget to press `Return` once you are done typing. In case you made a mistake or want to re-enter your answer, just run the corresponding cell again."
   ]
  },
  {
   "cell_type": "code",
   "execution_count": null,
   "id": "efbbacd2-479d-4829-9dc7-2831c2a633e9",
   "metadata": {},
   "outputs": [],
   "source": [
    "field = input(\"What would you describe as your field? Use a 1-2 word description.\")"
   ]
  },
  {
   "cell_type": "code",
   "execution_count": null,
   "id": "22b12e94-45d0-42ea-a19f-98ff3be816cb",
   "metadata": {},
   "outputs": [],
   "source": [
    "measure = input(\"What is something that would be interesting for you to measure or track in your discipline?\")"
   ]
  },
  {
   "cell_type": "markdown",
   "id": "7af8b4ea-3198-4a5a-9c07-6480428999f2",
   "metadata": {},
   "source": [
    "Running the following cell is really important, as this will save the answers you gave above. In case you change your answers to any of the above questions, please be sure to run the following cell again, to save the updated answers.\n",
    "\n",
    "You needn't be too concerned with what this code is really doing, but the crux is it is doing some string operations to convert your answers to a prompt, and then save that to a `.txt` file."
   ]
  },
  {
   "cell_type": "markdown",
   "id": "48ca1fb9-61a4-41ac-8208-1511c36e9502",
   "metadata": {},
   "source": [
    "<div style=\"background-color: #ADD8E6; padding: 10px;\">\n",
    "\n",
    "🤖\n",
    "<br>\n",
    "You can give this code to Generative AI and ask what each of the lines are actually doing!\n",
    "\n",
    "</div>"
   ]
  },
  {
   "cell_type": "code",
   "execution_count": null,
   "id": "0700f3ae-9d1a-4083-98a2-05492fef42ba",
   "metadata": {},
   "outputs": [],
   "source": [
    "with open('..\\Prompts\\Prompt_Builder.txt', 'r') as file:\n",
    "    prompt = file.read()\n",
    "\n",
    "prompt = prompt.replace('***', field, 1)\n",
    "prompt = prompt.replace('***', measure, 1)\n",
    "\n",
    "with open('..\\Prompts\\Prompt.txt', 'w') as file:\n",
    "    file.write(prompt)"
   ]
  }
 ],
 "metadata": {
  "kernelspec": {
   "display_name": "Python 3 (ipykernel)",
   "language": "python",
   "name": "python3"
  },
  "language_info": {
   "codemirror_mode": {
    "name": "ipython",
    "version": 3
   },
   "file_extension": ".py",
   "mimetype": "text/x-python",
   "name": "python",
   "nbconvert_exporter": "python",
   "pygments_lexer": "ipython3",
   "version": "3.11.7"
  }
 },
 "nbformat": 4,
 "nbformat_minor": 5
}
