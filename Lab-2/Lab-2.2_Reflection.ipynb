{
 "cells": [
  {
   "cell_type": "markdown",
   "id": "87630870",
   "metadata": {
    "editable": true,
    "slideshow": {
     "slide_type": ""
    },
    "tags": []
   },
   "source": [
    "## Reflection Exercise\n",
    "\n",
    "In this section, you will reflect on your learning experience by answering the following simplified questions. Please provide your answers when prompted by the code.\n",
    "\n",
    "### Questions:\n",
    "\n",
    "1. Reflect on your overall learning experience with data analysis in this lab. What stood out to you the most, and how will you use this knowledge moving forward?\n",
    "\n",
    "   **Example Response**: *What stood out to me the most was how important it is to clean and prepare data before analysis. I learned how to remove duplicates and convert data types, which made my analysis more accurate. Moving forward, I will make sure to always clean my data thoroughly before starting any analysis.*\n",
    "\n",
    "2. What was the most challenging part of this lab for you, and what steps did you take to overcome this challenge? What did you learn from this experience?\n",
    "\n",
    "   **Example Response**: *The most challenging part of this lab was understanding the code. I used GenAI as a copilot to answer questions I had about what different things meant. It taught me that its manageable to learn as I go while doing data analysis.*\n",
    "\n",
    "Run the following two cells and input your answers in the text boxes that show up. Don't forget to press `Return` once you are done typing. In case you made a mistake or want to re-enter your answer, just run the corresponding cell again."
   ]
  },
  {
   "cell_type": "code",
   "execution_count": 1,
   "id": "3d2865c6-dd6c-4e5b-9da7-c82a74b2df79",
   "metadata": {
    "editable": true,
    "slideshow": {
     "slide_type": ""
    },
    "source-hidden": true,
    "tags": []
   },
   "outputs": [
    {
     "data": {
      "application/vnd.jupyter.widget-view+json": {
       "model_id": "1b8e4ed27dc747f7a0cf595931fe2da5",
       "version_major": 2,
       "version_minor": 0
      },
      "text/plain": [
       "Textarea(value='', description='Learning Insight:', layout=Layout(height='100px', width='100%'), placeholder='…"
      ]
     },
     "metadata": {},
     "output_type": "display_data"
    },
    {
     "data": {
      "application/vnd.jupyter.widget-view+json": {
       "model_id": "294cc3dcfb09496995ff3700345c7b63",
       "version_major": 2,
       "version_minor": 0
      },
      "text/plain": [
       "Button(button_style='success', description='Save Reflections', icon='check', style=ButtonStyle(), tooltip='Cli…"
      ]
     },
     "metadata": {},
     "output_type": "display_data"
    },
    {
     "data": {
      "application/vnd.jupyter.widget-view+json": {
       "model_id": "f09d912dea0345098e9251a59f4a8c2b",
       "version_major": 2,
       "version_minor": 0
      },
      "text/plain": [
       "Label(value='')"
      ]
     },
     "metadata": {},
     "output_type": "display_data"
    }
   ],
   "source": [
    "# code to save your reflection\n",
    "\n",
    "import sys\n",
    "from pathlib import Path\n",
    "\n",
    "# Add the parent directory to the system path\n",
    "parent_dir = Path().resolve().parent\n",
    "sys.path.append(str(parent_dir))\n",
    "\n",
    "# Now you can import the module from the utils package\n",
    "from utils.input_widget import create_reflection_widget\n",
    "\n",
    "# Example of how to call the function in a Python notebook\n",
    "create_reflection_widget('learning_insight', 'Learning Insight:', 'Reflect on your overall learning experience...')\n"
   ]
  },
  {
   "cell_type": "code",
   "execution_count": 2,
   "id": "17fa90c9-c718-4048-9fee-81cef735f4f0",
   "metadata": {
    "editable": true,
    "jupyter": {
     "source_hidden": true
    },
    "slideshow": {
     "slide_type": ""
    },
    "tags": []
   },
   "outputs": [
    {
     "data": {
      "application/vnd.jupyter.widget-view+json": {
       "model_id": "9f3933ca8faa4f3da15d15dc88d7a0fe",
       "version_major": 2,
       "version_minor": 0
      },
      "text/plain": [
       "Textarea(value='', description='Challenge Reflection:', layout=Layout(height='100px', width='100%'), placehold…"
      ]
     },
     "metadata": {},
     "output_type": "display_data"
    },
    {
     "data": {
      "application/vnd.jupyter.widget-view+json": {
       "model_id": "895532c166bd459486f2769740b9a0b9",
       "version_major": 2,
       "version_minor": 0
      },
      "text/plain": [
       "Button(button_style='success', description='Save Reflections', icon='check', style=ButtonStyle(), tooltip='Cli…"
      ]
     },
     "metadata": {},
     "output_type": "display_data"
    },
    {
     "data": {
      "application/vnd.jupyter.widget-view+json": {
       "model_id": "e815094a3f724d9a8ccaef4b13a7f34a",
       "version_major": 2,
       "version_minor": 0
      },
      "text/plain": [
       "Label(value='')"
      ]
     },
     "metadata": {},
     "output_type": "display_data"
    }
   ],
   "source": [
    "# code to save your reflection\n",
    "create_reflection_widget('challenge_reflection', 'Challenge Reflection:', 'What was the most challenging part of this lab...')\n"
   ]
  }
 ],
 "metadata": {
  "kernelspec": {
   "display_name": "Python 3 (ipykernel)",
   "language": "python",
   "name": "python3"
  },
  "language_info": {
   "codemirror_mode": {
    "name": "ipython",
    "version": 3
   },
   "file_extension": ".py",
   "mimetype": "text/x-python",
   "name": "python",
   "nbconvert_exporter": "python",
   "pygments_lexer": "ipython3",
   "version": "3.10.14"
  },
  "widgets": {
   "application/vnd.jupyter.widget-state+json": {
    "state": {},
    "version_major": 2,
    "version_minor": 0
   }
  }
 },
 "nbformat": 4,
 "nbformat_minor": 5
}
