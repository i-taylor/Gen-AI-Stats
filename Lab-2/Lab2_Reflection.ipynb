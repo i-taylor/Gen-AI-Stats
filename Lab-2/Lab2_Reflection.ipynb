{
 "cells": [
  {
   "cell_type": "markdown",
   "id": "87630870",
   "metadata": {},
   "source": [
    "## Reflection Exercise\n",
    "\n",
    "In this section, you will reflect on your learning experience by answering the following simplified questions. Please provide your answers when prompted by the code.\n",
    "\n",
    "### Questions:\n",
    "\n",
    "1. Reflect on your overall learning experience with data analysis in this lab. What stood out to you the most, and how will you use this knowledge moving forward?\n",
    "\n",
    "   **Example Response**: *What stood out to me the most was how important it is to clean and prepare data before analysis. I learned how to remove duplicates and convert data types, which made my analysis more accurate. Moving forward, I will make sure to always clean my data thoroughly before starting any analysis.*\n",
    "\n",
    "2. What was the most challenging part of this lab for you, and what steps did you take to overcome this challenge? What did you learn from this experience?\n",
    "\n",
    "   **Example Response**: *The most challenging part of this lab was understanding the code. I used GenAI as a copilot to answer questions I had about what different things meant. It taught me that its manageable to learn as I go while doing data analysis.*\n",
    "\n",
    "Run the following two cells and input your answers in the text boxes that show up. Don't forget to press `Return` once you are done typing. In case you made a mistake or want to re-enter your answer, just run the corresponding cell again."
   ]
  },
  {
   "cell_type": "code",
   "execution_count": null,
   "id": "32e7a532",
   "metadata": {},
   "outputs": [
    {
     "name": "stdout",
     "output_type": "stream",
     "text": [
      "Reflect on your overall learning experience with data analysis in this lab. What stood out to you the most, and how will you use this knowledge moving forward?  As a data analyst, I found the concept of time series analysis extremely beneficial. I plan to apply it to forecast sales trends for our quarterly business reports, helping our team make informed inventory decisions.\n"
     ]
    }
   ],
   "source": [
    "learning_insight = input(\"Reflect on your overall learning experience with data analysis in this lab. What stood out to you the most, and how will you use this knowledge moving forward? \")"
   ]
  },
  {
   "cell_type": "code",
   "execution_count": null,
   "id": "9481037d",
   "metadata": {},
   "outputs": [
    {
     "name": "stdout",
     "output_type": "stream",
     "text": [
      "What was the most challenging part of this lab for you, and what steps did you take to overcome this challenge? What did you learn from this experience?  Given my background in marketing, I struggled with understanding statistical hypothesis testing. I overcame this by revisiting foundational statistics resources and practicing with real-world examples. The peer discussion forums and supplemental videos were particularly helpful.\n"
     ]
    }
   ],
   "source": [
    "challenge_reflection = input(\"What was the most challenging part of this lab for you, and what steps did you take to overcome this challenge? What did you learn from this experience? \")"
   ]
  },
  {
   "cell_type": "markdown",
   "id": "71068719",
   "metadata": {},
   "source": [
    "Running the following cell is really important, as this will save the answers you gave above. In case you change your answers to any of the above questions, please be sure to run the following cell again, to save the updated answers.\n",
    "\n",
    "You needn't be too concerned with what this code is really doing, but the crux is it is doing some string operations to convert your answers to a prompt, and then save that to a `.txt` file."
   ]
  },
  {
   "cell_type": "code",
   "execution_count": null,
   "id": "b28cd407",
   "metadata": {},
   "outputs": [
    {
     "name": "stdout",
     "output_type": "stream",
     "text": [
      "Your reflections have been saved.\n"
     ]
    }
   ],
   "source": [
    "# Read the prompt template from the file\n",
    "with open('..\\Prompts\\Prompt.txt', 'r') as file:\n",
    "    prompt = file.read()\n",
    "\n",
    "# Replace placeholders with user input\n",
    "prompt = prompt.replace('***', learning_insight, 1)\n",
    "prompt = prompt.replace('***', challenge_reflection, 1)\n",
    "\n",
    "# Write the updated prompt back to the file\n",
    "with open('..\\Prompts\\Prompt.txt', 'w') as file:\n",
    "    file.write(prompt)\n",
    "\n",
    "print(\"Your reflections have been saved.\")"
   ]
  }
 ],
 "metadata": {
  "kernelspec": {
   "display_name": "Python 3 (ipykernel)",
   "language": "python",
   "name": "python3"
  },
  "language_info": {
   "codemirror_mode": {
    "name": "ipython",
    "version": 3
   },
   "file_extension": ".py",
   "mimetype": "text/x-python",
   "name": "python",
   "nbconvert_exporter": "python",
   "pygments_lexer": "ipython3",
   "version": "3.11.7"
  }
 },
 "nbformat": 4,
 "nbformat_minor": 5
}
