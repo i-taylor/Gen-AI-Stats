{
 "cells": [
  {
   "cell_type": "markdown",
   "id": "bf662f02",
   "metadata": {},
   "source": [
    "## Data Analysis\n",
    "\n",
    "In this section, we will perform various data analysis tasks on the Yelp reviews dataset. This includes descriptive statistics, correlation analysis, grouping and aggregation, and trend analysis.\n",
    "\n",
    "Let's first load the dataset."
   ]
  },
  {
   "cell_type": "code",
   "execution_count": null,
   "id": "def4d737",
   "metadata": {},
   "outputs": [
    {
     "data": {
      "text/html": [
       "<div>\n",
       "<style scoped>\n",
       "    .dataframe tbody tr th:only-of-type {\n",
       "        vertical-align: middle;\n",
       "    }\n",
       "\n",
       "    .dataframe tbody tr th {\n",
       "        vertical-align: top;\n",
       "    }\n",
       "\n",
       "    .dataframe thead th {\n",
       "        text-align: right;\n",
       "    }\n",
       "</style>\n",
       "<table border=\"1\" class=\"dataframe\">\n",
       "  <thead>\n",
       "    <tr style=\"text-align: right;\">\n",
       "      <th></th>\n",
       "      <th>review_id</th>\n",
       "      <th>user_id</th>\n",
       "      <th>business_id</th>\n",
       "      <th>stars</th>\n",
       "      <th>useful</th>\n",
       "      <th>funny</th>\n",
       "      <th>cool</th>\n",
       "      <th>text</th>\n",
       "      <th>date</th>\n",
       "    </tr>\n",
       "  </thead>\n",
       "  <tbody>\n",
       "    <tr>\n",
       "      <th>0</th>\n",
       "      <td>KU_O5udG6zpxOg-VcAEodg</td>\n",
       "      <td>mh_-eMZ6K5RLWhZyISBhwA</td>\n",
       "      <td>XQfwVwDr-v0ZS3_CbbE5Xw</td>\n",
       "      <td>3</td>\n",
       "      <td>0</td>\n",
       "      <td>0</td>\n",
       "      <td>0</td>\n",
       "      <td>If you decide to eat here, just be aware it is...</td>\n",
       "      <td>7/7/2018 22:09</td>\n",
       "    </tr>\n",
       "    <tr>\n",
       "      <th>1</th>\n",
       "      <td>BiTunyQ73aT9WBnpR9DZGw</td>\n",
       "      <td>OyoGAe7OKpv6SyGZT5g77Q</td>\n",
       "      <td>7ATYjTIgM3jUlt4UM3IypQ</td>\n",
       "      <td>5</td>\n",
       "      <td>1</td>\n",
       "      <td>0</td>\n",
       "      <td>1</td>\n",
       "      <td>I've taken a lot of spin classes over the year...</td>\n",
       "      <td>1/3/2012 15:28</td>\n",
       "    </tr>\n",
       "    <tr>\n",
       "      <th>2</th>\n",
       "      <td>saUsX_uimxRlCVr67Z4Jig</td>\n",
       "      <td>8g_iMtfSiwikVnbP2etR0A</td>\n",
       "      <td>YjUWPpI6HXG530lwP-fb2A</td>\n",
       "      <td>3</td>\n",
       "      <td>0</td>\n",
       "      <td>0</td>\n",
       "      <td>0</td>\n",
       "      <td>Family diner. Had the buffet. Eclectic assortm...</td>\n",
       "      <td>2/5/2014 20:30</td>\n",
       "    </tr>\n",
       "    <tr>\n",
       "      <th>3</th>\n",
       "      <td>AqPFMleE6RsU23_auESxiA</td>\n",
       "      <td>_7bHUi9Uuf5__HHc_Q8guQ</td>\n",
       "      <td>kxX2SOes4o-D3ZQBkiMRfA</td>\n",
       "      <td>5</td>\n",
       "      <td>1</td>\n",
       "      <td>0</td>\n",
       "      <td>1</td>\n",
       "      <td>Wow!  Yummy, different,  delicious.   Our favo...</td>\n",
       "      <td>1/4/2015 0:01</td>\n",
       "    </tr>\n",
       "    <tr>\n",
       "      <th>4</th>\n",
       "      <td>Sx8TMOWLNuJBWer-0pcmoA</td>\n",
       "      <td>bcjbaE6dDog4jkNY91ncLQ</td>\n",
       "      <td>e4Vwtrqf-wpJfwesgvdgxQ</td>\n",
       "      <td>4</td>\n",
       "      <td>1</td>\n",
       "      <td>0</td>\n",
       "      <td>1</td>\n",
       "      <td>Cute interior and owner (?) gave us tour of up...</td>\n",
       "      <td>1/14/2017 20:54</td>\n",
       "    </tr>\n",
       "  </tbody>\n",
       "</table>\n",
       "</div>"
      ],
      "text/plain": [
       "                review_id                 user_id             business_id  \\\n",
       "0  KU_O5udG6zpxOg-VcAEodg  mh_-eMZ6K5RLWhZyISBhwA  XQfwVwDr-v0ZS3_CbbE5Xw   \n",
       "1  BiTunyQ73aT9WBnpR9DZGw  OyoGAe7OKpv6SyGZT5g77Q  7ATYjTIgM3jUlt4UM3IypQ   \n",
       "2  saUsX_uimxRlCVr67Z4Jig  8g_iMtfSiwikVnbP2etR0A  YjUWPpI6HXG530lwP-fb2A   \n",
       "3  AqPFMleE6RsU23_auESxiA  _7bHUi9Uuf5__HHc_Q8guQ  kxX2SOes4o-D3ZQBkiMRfA   \n",
       "4  Sx8TMOWLNuJBWer-0pcmoA  bcjbaE6dDog4jkNY91ncLQ  e4Vwtrqf-wpJfwesgvdgxQ   \n",
       "\n",
       "   stars  useful  funny  cool  \\\n",
       "0      3       0      0     0   \n",
       "1      5       1      0     1   \n",
       "2      3       0      0     0   \n",
       "3      5       1      0     1   \n",
       "4      4       1      0     1   \n",
       "\n",
       "                                                text             date  \n",
       "0  If you decide to eat here, just be aware it is...   7/7/2018 22:09  \n",
       "1  I've taken a lot of spin classes over the year...   1/3/2012 15:28  \n",
       "2  Family diner. Had the buffet. Eclectic assortm...   2/5/2014 20:30  \n",
       "3  Wow!  Yummy, different,  delicious.   Our favo...    1/4/2015 0:01  \n",
       "4  Cute interior and owner (?) gave us tour of up...  1/14/2017 20:54  "
      ]
     },
     "metadata": {},
     "output_type": "display_data"
    }
   ],
   "source": [
    "# Importing necessary libraries\n",
    "import os  # Module for interacting with the operating system\n",
    "import pandas as pd  # Library for data manipulation and analysis\n",
    "import numpy as np  # Library for numerical computations\n",
    "\n",
    "file_path = '../Datasets/Yelp_Reviews/reviews.csv'  # Define the path to the CSV file\n",
    "\n",
    "reviews = pd.read_csv(file_path)  # Read the CSV file into a DataFrame\n",
    "\n",
    "reviews.head()  # Display the first few rows of the DataFrame"
   ]
  },
  {
   "cell_type": "markdown",
   "id": "31401e1f",
   "metadata": {},
   "source": [
    "### Summary statistics\n",
    "\n",
    "#### Distribution of Ratings\n",
    "We analyze the distribution of ratings in the Yelp reviews dataset. Understanding the distribution of ratings can provide insights into customer satisfaction and help identify patterns or trends in the feedback.\n",
    "\n",
    "- **rating_distribution = reviews['stars'].value_counts().sort_index()**:\n",
    "    - **reviews['stars']**: Select the 'stars' column from the DataFrame `reviews`, which contains the ratings given in the reviews.\n",
    "    - **value_counts()**: Counts the occurrence of each unique rating value, giving us the number of reviews for each rating.\n",
    "    - **sort_index()**: Sorts the counts by the rating values (index) in ascending order.\n",
    "\n",
    "- **rating_distribution**:\n",
    "    - This variable now holds a Series with the count of reviews for each rating, sorted by the rating values. It provides a clear view of how many reviews were given for each rating level (e.g., 1 star, 2 stars, etc.)."
   ]
  },
  {
   "cell_type": "code",
   "execution_count": null,
   "id": "73b46453",
   "metadata": {},
   "outputs": [
    {
     "data": {
      "text/plain": [
       "stars\n",
       "1    222\n",
       "2    148\n",
       "3    236\n",
       "4    474\n",
       "5    883\n",
       "Name: count, dtype: int64"
      ]
     },
     "metadata": {},
     "output_type": "display_data"
    }
   ],
   "source": [
    "# Distribution of Ratings\n",
    "rating_distribution = reviews['stars'].value_counts().sort_index()  # Count the occurrences of each rating and sort by rating value\n",
    "\n",
    "rating_distribution  # Display the distribution of ratings"
   ]
  },
  {
   "cell_type": "markdown",
   "id": "f5cc9d06",
   "metadata": {},
   "source": [
    "<div style=\"background-color: #00008B; padding: 10px; color: white; padding: 10px;\">\n",
    "\n",
    "Now you can try to do something on your own with GenAI!\n",
    "\n",
    "🤖 **Suggested prompt**\n",
    "<br>\n",
    "\n",
    "This is my data:\n",
    "\n",
    "`<data>`\n",
    "\n",
    "{paste data}\n",
    "\n",
    "`</data>`\n",
    "\n",
    "In my lesson, we ran this code:\n",
    "\n",
    "`rating_distribution = reviews['stars'].value_counts().sort_index()  # Count the occurrences of each rating and sort by rating value`\n",
    "\n",
    "Given my dataset, what are some other summary statistics I could look at?\n",
    "\n",
    "</div>"
   ]
  },
  {
   "cell_type": "code",
   "execution_count": null,
   "id": "b5c0f621",
   "metadata": {},
   "outputs": [],
   "source": [
    "# paste your AI-generated code here to give it a go:\n"
   ]
  },
  {
   "cell_type": "markdown",
   "id": "72d3a234",
   "metadata": {},
   "source": [
    "### Statistical Analysis\n",
    "Below are some basic statistical analyses you can do on your dataset. "
   ]
  },
  {
   "cell_type": "markdown",
   "id": "cd85cca8",
   "metadata": {},
   "source": [
    "#### Correlation Analysis: Review Length vs Useful Votes\n",
    "Here we analyze the statistical correlation between the length of a review and the number of useful votes it receives. By examining this correlation, we can understand if there is a linear relationship between these two variables.\n",
    "\n",
    "1. Calculate Review Length:"
   ]
  },
  {
   "cell_type": "code",
   "execution_count": null,
   "id": "62583a23",
   "metadata": {},
   "outputs": [],
   "source": [
    "# Create a new column 'review_length' which is the length of each review in characters\n",
    "reviews['review_length'] = reviews['text'].apply(len)\n"
   ]
  },
  {
   "cell_type": "markdown",
   "id": "60b50482",
   "metadata": {},
   "source": [
    "- **reviews['text']**: Selects the 'text' column from the DataFrame reviews, which contains the review texts.\n",
    "- **apply(len)**: Applies the len function to each review text, calculating the length of each review in terms of the number of characters.\n",
    "- **reviews['review_length']**: Creates a new column 'review_length' in the DataFrame reviews to store the length of each review.\n",
    "\n",
    "2. **Select Relevant Columns**:"
   ]
  },
  {
   "cell_type": "code",
   "execution_count": null,
   "id": "2dfafc56",
   "metadata": {},
   "outputs": [],
   "source": [
    "# Create a new DataFrame with the relevant columns for correlation analysis\n",
    "review_length_vs_useful = reviews[['review_length', 'useful']]\n"
   ]
  },
  {
   "cell_type": "markdown",
   "id": "b6f67660",
   "metadata": {},
   "source": [
    "- **reviews[['review_length', 'useful']]**: Selects the 'review_length' and 'useful' columns from the DataFrame `reviews` and creates a new DataFrame `review_length_vs_useful` containing these two columns.\n",
    "\n",
    "3. **Calculate and Display the Correlation**:"
   ]
  },
  {
   "cell_type": "code",
   "execution_count": null,
   "id": "b08a3be5",
   "metadata": {},
   "outputs": [
    {
     "name": "stdout",
     "output_type": "stream",
     "text": [
      "               review_length    useful\n",
      "review_length       1.000000  0.280841\n",
      "useful              0.280841  1.000000\n"
     ]
    }
   ],
   "source": [
    "# Calculate the correlation between review length and useful votes\n",
    "correlation = review_length_vs_useful.corr()\n",
    "\n",
    "# Display the correlation matrix\n",
    "print(correlation)"
   ]
  },
  {
   "cell_type": "markdown",
   "id": "9474afbc",
   "metadata": {},
   "source": [
    "- **review_length_vs_useful.corr()**: Computes the pairwise correlation of columns in the DataFrame `review_length_vs_useful`.\n",
    "- **print(correlation)**: Displays the correlation matrix, showing the correlation coefficient between 'review_length' and 'useful'.\n",
    "\n",
    "The correlation coefficient will provide a measure of how strongly review length and useful votes are related. A coefficient close to 1 indicates a strong positive correlation, close to -1 indicates a strong negative correlation, and close to 0 indicates no correlation.\n",
    "\n",
    "Here’s the complete code for the correlation analysis:"
   ]
  },
  {
   "cell_type": "code",
   "execution_count": null,
   "id": "b750baf3",
   "metadata": {},
   "outputs": [
    {
     "name": "stdout",
     "output_type": "stream",
     "text": [
      "               review_length    useful\n",
      "review_length       1.000000  0.280841\n",
      "useful              0.280841  1.000000\n"
     ]
    }
   ],
   "source": [
    "# Calculate Review Length\n",
    "reviews['review_length'] = reviews['text'].apply(len)\n",
    "\n",
    "# Select Relevant Columns\n",
    "review_length_vs_useful = reviews[['review_length', 'useful']]\n",
    "\n",
    "# Calculate and Display the Correlation\n",
    "correlation = review_length_vs_useful.corr()\n",
    "print(correlation)"
   ]
  },
  {
   "cell_type": "markdown",
   "id": "c9e423b4",
   "metadata": {},
   "source": [
    "#### Group Comparison: Average Star Ratings\n",
    "Here, we will analyze the star ratings of different businesses using Analysis of Variance (ANOVA). In this lab, we will guide you step by step through the process of renaming businesses, filtering data, and performing ANOVA to compare the ratings.\n",
    "\n",
    "##### Step 1: Load the Dataset\n",
    "\n",
    "First, we need to load the dataset containing business reviews. We already did this abov, but we can import some additional libraries for the statistical analyses."
   ]
  },
  {
   "cell_type": "code",
   "execution_count": null,
   "id": "3d59da29",
   "metadata": {},
   "outputs": [
    {
     "data": {
      "text/html": [
       "<div>\n",
       "<style scoped>\n",
       "    .dataframe tbody tr th:only-of-type {\n",
       "        vertical-align: middle;\n",
       "    }\n",
       "\n",
       "    .dataframe tbody tr th {\n",
       "        vertical-align: top;\n",
       "    }\n",
       "\n",
       "    .dataframe thead th {\n",
       "        text-align: right;\n",
       "    }\n",
       "</style>\n",
       "<table border=\"1\" class=\"dataframe\">\n",
       "  <thead>\n",
       "    <tr style=\"text-align: right;\">\n",
       "      <th></th>\n",
       "      <th>review_id</th>\n",
       "      <th>user_id</th>\n",
       "      <th>business_id</th>\n",
       "      <th>stars</th>\n",
       "      <th>useful</th>\n",
       "      <th>funny</th>\n",
       "      <th>cool</th>\n",
       "      <th>text</th>\n",
       "      <th>date</th>\n",
       "    </tr>\n",
       "  </thead>\n",
       "  <tbody>\n",
       "    <tr>\n",
       "      <th>0</th>\n",
       "      <td>KU_O5udG6zpxOg-VcAEodg</td>\n",
       "      <td>mh_-eMZ6K5RLWhZyISBhwA</td>\n",
       "      <td>XQfwVwDr-v0ZS3_CbbE5Xw</td>\n",
       "      <td>3</td>\n",
       "      <td>0</td>\n",
       "      <td>0</td>\n",
       "      <td>0</td>\n",
       "      <td>If you decide to eat here, just be aware it is...</td>\n",
       "      <td>7/7/2018 22:09</td>\n",
       "    </tr>\n",
       "    <tr>\n",
       "      <th>1</th>\n",
       "      <td>BiTunyQ73aT9WBnpR9DZGw</td>\n",
       "      <td>OyoGAe7OKpv6SyGZT5g77Q</td>\n",
       "      <td>7ATYjTIgM3jUlt4UM3IypQ</td>\n",
       "      <td>5</td>\n",
       "      <td>1</td>\n",
       "      <td>0</td>\n",
       "      <td>1</td>\n",
       "      <td>I've taken a lot of spin classes over the year...</td>\n",
       "      <td>1/3/2012 15:28</td>\n",
       "    </tr>\n",
       "    <tr>\n",
       "      <th>2</th>\n",
       "      <td>saUsX_uimxRlCVr67Z4Jig</td>\n",
       "      <td>8g_iMtfSiwikVnbP2etR0A</td>\n",
       "      <td>YjUWPpI6HXG530lwP-fb2A</td>\n",
       "      <td>3</td>\n",
       "      <td>0</td>\n",
       "      <td>0</td>\n",
       "      <td>0</td>\n",
       "      <td>Family diner. Had the buffet. Eclectic assortm...</td>\n",
       "      <td>2/5/2014 20:30</td>\n",
       "    </tr>\n",
       "    <tr>\n",
       "      <th>3</th>\n",
       "      <td>AqPFMleE6RsU23_auESxiA</td>\n",
       "      <td>_7bHUi9Uuf5__HHc_Q8guQ</td>\n",
       "      <td>kxX2SOes4o-D3ZQBkiMRfA</td>\n",
       "      <td>5</td>\n",
       "      <td>1</td>\n",
       "      <td>0</td>\n",
       "      <td>1</td>\n",
       "      <td>Wow!  Yummy, different,  delicious.   Our favo...</td>\n",
       "      <td>1/4/2015 0:01</td>\n",
       "    </tr>\n",
       "    <tr>\n",
       "      <th>4</th>\n",
       "      <td>Sx8TMOWLNuJBWer-0pcmoA</td>\n",
       "      <td>bcjbaE6dDog4jkNY91ncLQ</td>\n",
       "      <td>e4Vwtrqf-wpJfwesgvdgxQ</td>\n",
       "      <td>4</td>\n",
       "      <td>1</td>\n",
       "      <td>0</td>\n",
       "      <td>1</td>\n",
       "      <td>Cute interior and owner (?) gave us tour of up...</td>\n",
       "      <td>1/14/2017 20:54</td>\n",
       "    </tr>\n",
       "  </tbody>\n",
       "</table>\n",
       "</div>"
      ],
      "text/plain": [
       "                review_id                 user_id             business_id  \\\n",
       "0  KU_O5udG6zpxOg-VcAEodg  mh_-eMZ6K5RLWhZyISBhwA  XQfwVwDr-v0ZS3_CbbE5Xw   \n",
       "1  BiTunyQ73aT9WBnpR9DZGw  OyoGAe7OKpv6SyGZT5g77Q  7ATYjTIgM3jUlt4UM3IypQ   \n",
       "2  saUsX_uimxRlCVr67Z4Jig  8g_iMtfSiwikVnbP2etR0A  YjUWPpI6HXG530lwP-fb2A   \n",
       "3  AqPFMleE6RsU23_auESxiA  _7bHUi9Uuf5__HHc_Q8guQ  kxX2SOes4o-D3ZQBkiMRfA   \n",
       "4  Sx8TMOWLNuJBWer-0pcmoA  bcjbaE6dDog4jkNY91ncLQ  e4Vwtrqf-wpJfwesgvdgxQ   \n",
       "\n",
       "   stars  useful  funny  cool  \\\n",
       "0      3       0      0     0   \n",
       "1      5       1      0     1   \n",
       "2      3       0      0     0   \n",
       "3      5       1      0     1   \n",
       "4      4       1      0     1   \n",
       "\n",
       "                                                text             date  \n",
       "0  If you decide to eat here, just be aware it is...   7/7/2018 22:09  \n",
       "1  I've taken a lot of spin classes over the year...   1/3/2012 15:28  \n",
       "2  Family diner. Had the buffet. Eclectic assortm...   2/5/2014 20:30  \n",
       "3  Wow!  Yummy, different,  delicious.   Our favo...    1/4/2015 0:01  \n",
       "4  Cute interior and owner (?) gave us tour of up...  1/14/2017 20:54  "
      ]
     },
     "metadata": {},
     "output_type": "display_data"
    }
   ],
   "source": [
    "# Import necessary libraries\n",
    "import pandas as pd  # Pandas is used for data manipulation and analysis.\n",
    "from scipy.stats import f_oneway  # Scipy's f_oneway function is used to perform ANOVA.\n",
    "\n",
    "file_path = '../Datasets/Yelp_Reviews/reviews.csv'  # Define the path to the CSV file\n",
    "\n",
    "reviews = pd.read_csv(file_path)  # Read the CSV file into a DataFrame\n",
    "\n",
    "reviews.head()  # Display the first few rows of the DataFrame"
   ]
  },
  {
   "cell_type": "markdown",
   "id": "a98d7489",
   "metadata": {},
   "source": [
    "\n",
    "- **Pandas (`pd`)**: A powerful data manipulation library in Python. It provides data structures and functions needed to manipulate structured data.\n",
    "- **SciPy (`f_oneway`)**: A Python library used for scientific and technical computing. Here, we use the `f_oneway` function from SciPy's stats module to perform ANOVA.\n",
    "\n",
    "##### Step 2: Identify Top 10 Businesses\n",
    "\n",
    "Next, we will identify the top 10 businesses based on the number of reviews."
   ]
  },
  {
   "cell_type": "code",
   "execution_count": null,
   "id": "c12ace01",
   "metadata": {},
   "outputs": [
    {
     "name": "stdout",
     "output_type": "stream",
     "text": [
      "business_id\n",
      "GBTPC53ZrG1ZBY3DT8Mbcw    17\n",
      "pSmOH4a3HNNpYM82J5ycLA    12\n",
      "PY9GRfzr4nTZeINf346QOw    11\n",
      "W4ZEKkva9HpAdZG88juwyQ    10\n",
      "Zi-F-YvyVOK0k5QD7lrLOg     9\n",
      "EtKSTHV5Qx_Q7Aur9o4kQQ     9\n",
      "Dv6RfXLYe1atjgz3Xf4GGw     8\n",
      "SZU9c8V2GuREDN5KgyHFJw     7\n",
      "9gObo5ltOMo6UgsaXaHPWA     7\n",
      "VRGYwKE_Z77frm5NwLvJhw     7\n",
      "Name: count, dtype: int64\n"
     ]
    }
   ],
   "source": [
    "# Count the number of reviews for each business and sort in descending order\n",
    "business_review_counts = reviews['business_id'].value_counts()\n",
    "top_businesses = business_review_counts.head(10)\n",
    "\n",
    "# Display the top 10 businesses\n",
    "print(top_businesses)"
   ]
  },
  {
   "cell_type": "markdown",
   "id": "f72db072",
   "metadata": {},
   "source": [
    "- **`value_counts()`**: A function that counts the unique values in a column.\n",
    "- **`head(10)`**: Selects the top 10 entries from the Series.\n",
    "\n",
    "##### Step 3: Rename Top 10 Businesses\n",
    "\n",
    "We will rename the top 10 businesses as \"Business 1\", \"Business 2\", etc., for easier analysis."
   ]
  },
  {
   "cell_type": "code",
   "execution_count": null,
   "id": "65d521bc",
   "metadata": {},
   "outputs": [
    {
     "name": "stdout",
     "output_type": "stream",
     "text": [
      "              business_id business_label\n",
      "0  GBTPC53ZrG1ZBY3DT8Mbcw     Business_A\n",
      "1  pSmOH4a3HNNpYM82J5ycLA     Business_B\n",
      "2  PY9GRfzr4nTZeINf346QOw     Business_C\n",
      "3  W4ZEKkva9HpAdZG88juwyQ     Business_D\n",
      "4  Zi-F-YvyVOK0k5QD7lrLOg     Business_E\n",
      "5  EtKSTHV5Qx_Q7Aur9o4kQQ     Business_F\n",
      "6  Dv6RfXLYe1atjgz3Xf4GGw     Business_G\n",
      "7  SZU9c8V2GuREDN5KgyHFJw     Business_H\n",
      "8  9gObo5ltOMo6UgsaXaHPWA     Business_I\n",
      "9  VRGYwKE_Z77frm5NwLvJhw     Business_J\n"
     ]
    }
   ],
   "source": [
    "# Rename the top 10 businesses as businesses A-J for alphabetical sorting\n",
    "business_labels = ['Business_A', 'Business_B', 'Business_C', 'Business_D', 'Business_E', 'Business_F', 'Business_G', 'Business_H', 'Business_I', 'Business_J']\n",
    "top_10_businesses = top_businesses.index[:10].tolist()\n",
    "business_mapping = {business_id: business_labels[i] for i, business_id in enumerate(top_10_businesses)}\n",
    "\n",
    "# Create a new column 'business_label' with the new business names\n",
    "reviews['business_label'] = reviews['business_id'].map(business_mapping)\n",
    "\n",
    "# Verify that the business labels have been correctly assigned by displaying the top 10 businesses\n",
    "top_10_renamed = reviews[reviews['business_id'].isin(top_10_businesses)][['business_id', 'business_label']].drop_duplicates()\n",
    "top_10_renamed = top_10_renamed.sort_values(by='business_label').reset_index(drop=True)\n",
    "print(top_10_renamed)"
   ]
  },
  {
   "cell_type": "markdown",
   "id": "f80b78fa",
   "metadata": {},
   "source": [
    "##### Step 4: Filter Data for Top 10 Businesses\n",
    "\n",
    "We will filter the dataset to include only reviews for the top 10 businesses."
   ]
  },
  {
   "cell_type": "code",
   "execution_count": null,
   "id": "f7b5dbef",
   "metadata": {},
   "outputs": [
    {
     "name": "stdout",
     "output_type": "stream",
     "text": [
      "                  review_id                 user_id             business_id  \\\n",
      "37   pHwbdway4yeI-dSSmZA7-Q  qEEk0PuoH1dVa619t8fgpw  PY9GRfzr4nTZeINf346QOw   \n",
      "44   jC-fGfx-YLqxVBcyTAd4Pw  EBa-0-6AKoy6jziNexDJtg  W4ZEKkva9HpAdZG88juwyQ   \n",
      "49   cvQXRFLCyr0S7EgFb4lZqw  ZGjgfSvjQK886kiTzLwfLQ  EtKSTHV5Qx_Q7Aur9o4kQQ   \n",
      "61   4zopEEPqfwm-c_FNpeHZYw  JYYYKt6TdVA4ng9lLcXt_g  SZU9c8V2GuREDN5KgyHFJw   \n",
      "71   aAcQibR3zWOvk4atbCM3SA  7P9w2PrP4ZcJyDFwch51Ig  Zi-F-YvyVOK0k5QD7lrLOg   \n",
      "81   7rCsR3SARVF3vXNiw_Csgg  mmdf_Fi-Hh_3uZN5zE164A  9gObo5ltOMo6UgsaXaHPWA   \n",
      "108  yyrMqY7sNp5gT7KJ1AaYWA  pitYOVSsF8R1gWG1G0qxsA  GBTPC53ZrG1ZBY3DT8Mbcw   \n",
      "113  3dVcGYz6GokuEytLrfG8bA  FEI0XkOrUHufSW_rfOTPAA  Dv6RfXLYe1atjgz3Xf4GGw   \n",
      "119  S4nZgOgiv9w8MOiaWTpwBQ  8fPlzYWo0j_nQrJMeyF0Fw  pSmOH4a3HNNpYM82J5ycLA   \n",
      "143  pJRn59F_lyNO1zT3TCVd0Q  TGgfqWnUaCf6DM7TLuNhDQ  pSmOH4a3HNNpYM82J5ycLA   \n",
      "\n",
      "     stars  useful  funny  cool  \\\n",
      "37       4       0      0     0   \n",
      "44       3       0      0     0   \n",
      "49       5       3      1     1   \n",
      "61       5       0      0     0   \n",
      "71       5       0      0     0   \n",
      "81       5       0      0     0   \n",
      "108      4       0      0     0   \n",
      "113      4       1      0     0   \n",
      "119      5       0      0     0   \n",
      "143      3       0      0     0   \n",
      "\n",
      "                                                  text             date  \\\n",
      "37   We checked in around 2:30 pm.  Check-in was qu...  9/20/2017 16:16   \n",
      "44   In a word... \"OVERRATED!\".  The food took fore...  12/29/2013 2:37   \n",
      "49   On a scale of one to things that are awesome, ...  10/14/2009 1:15   \n",
      "61   We were a bit weary about trying the Shellfish...   5/31/2016 2:14   \n",
      "71   Definitely recommend for anyone looking for a ...  9/18/2016 17:05   \n",
      "81   My husband and I took my mother here for her 1...    9/6/2016 3:04   \n",
      "108  We have been here twice for brunch and have en...   3/7/2016 17:25   \n",
      "113  Good food, reasonably priced, and nice staff. ...  12/4/2012 23:58   \n",
      "119  I first heard about this place on the plane ri...   6/8/2015 21:11   \n",
      "143  This is a pretty good pancake place, but it's ...    3/4/2018 0:07   \n",
      "\n",
      "    business_label  \n",
      "37      Business_C  \n",
      "44      Business_D  \n",
      "49      Business_F  \n",
      "61      Business_H  \n",
      "71      Business_E  \n",
      "81      Business_I  \n",
      "108     Business_A  \n",
      "113     Business_G  \n",
      "119     Business_B  \n",
      "143     Business_B  \n"
     ]
    }
   ],
   "source": [
    "# Filter the dataset to include only the top 10 businesses\n",
    "top_10_reviews = reviews[reviews['business_label'].notnull()]\n",
    "\n",
    "# Display the filtered DataFrame\n",
    "print(top_10_reviews.head(10))"
   ]
  },
  {
   "cell_type": "markdown",
   "id": "da56f24d",
   "metadata": {},
   "source": [
    "##### Step 5: Perform ANOVA\n",
    "\n",
    "Finally, we will perform ANOVA to compare the average star ratings of the top 10 businesses."
   ]
  },
  {
   "cell_type": "code",
   "execution_count": null,
   "id": "e8f30f2f",
   "metadata": {},
   "outputs": [
    {
     "name": "stdout",
     "output_type": "stream",
     "text": [
      "F-statistic: 0.8336292812943005, p-value: 0.5871479728518842\n"
     ]
    }
   ],
   "source": [
    "# Perform ANOVA on the star ratings of the top 10 businesses\n",
    "groups = [top_10_reviews[top_10_reviews['business_label'] == f'Business_{letter}']['stars'] for letter in 'ABCDEFGHIJ']\n",
    "f_stat, p_value = f_oneway(*groups)\n",
    "\n",
    "# Display the ANOVA results\n",
    "print(f\"F-statistic: {f_stat}, p-value: {p_value}\")"
   ]
  },
  {
   "cell_type": "markdown",
   "id": "337b55ca",
   "metadata": {},
   "source": [
    "##### Explanation:\n",
    "\n",
    "- **Loading the Dataset**: We load the data into a pandas DataFrame for easy manipulation.\n",
    "- **Identifying Top 10 Businesses**: We count and sort the businesses by the number of reviews to find the top 10.\n",
    "- **Renaming Businesses**: We map the top 10 businesses to new labels for simplicity.\n",
    "- **Filtering Data**: We filter the DataFrame to include only the reviews of the top 10 businesses.\n",
    "- **Performing ANOVA**: We use ANOVA to determine if there are significant differences in the average star ratings among the top 10 businesses.\n"
   ]
  },
  {
   "cell_type": "markdown",
   "id": "151c04ed",
   "metadata": {},
   "source": [
    "<div style=\"background-color: #00008B; padding: 10px; color: white; padding: 10px;\">\n",
    "\n",
    "Try to generate another kind of analysis here. \n",
    "\n",
    "🤖 **Suggested prompt**\n",
    "<br>\n",
    "\n",
    "This is my data:\n",
    "\n",
    "`<data>`\n",
    "\n",
    "{paste data}\n",
    "\n",
    "`</data>`\n",
    "\n",
    "In my lesson, we just performed a correlation analysis and an ANOVA. What are some other statistical analyses I could perform on my dataset? Please provide the pros and cons of each method and explain briefly how to implement them in Python.\n",
    "\n",
    "</div>"
   ]
  },
  {
   "cell_type": "markdown",
   "id": "ce96f365",
   "metadata": {},
   "source": [
    "<div style=\"background-color: #00008B; padding: 10px; color: white; padding: 10px;\">\n",
    "🤖 \n",
    "<br>\n",
    "**Although the explanation of this code block is out of scope for this course, our Generative AI friend can certainly help!**\n",
    "\n",
    "</div>"
   ]
  },
  {
   "cell_type": "markdown",
   "id": "853e84a1",
   "metadata": {},
   "source": [
    "### Advanced: Sentiment Analysis\n",
    "\n",
    "Thanks to GenAI tools, it's now possible for people without much experience to do analyses as advanced and specialized as Sentiment Analysis.\n",
    "\n",
    "Sentiment analysis is the process of using natural language processing (NLP) and machine learning techniques to determine the emotional tone or sentiment expressed in a piece of text. It is widely used in areas such as social media monitoring, customer feedback analysis, and market research to understand the opinions and feelings of individuals.\n",
    "\n",
    "And to get code for doing this, you could ask AI something like:"
   ]
  },
  {
   "cell_type": "markdown",
   "id": "27547c28",
   "metadata": {},
   "source": [
    "<div style=\"background-color: #00008B; padding: 10px; color: white; padding: 10px;\">\n",
    "\n",
    "🤖  **Example prompt:**\n",
    "\n",
    "<br>\n",
    "How can I perform sentiment analysis on my dataset of customer reviews in Python? Provide a Python code example that classifies the sentiment of each review as positive, negative, or neutral and calculates the distribution of these sentiments.\n",
    "\n",
    "Here's a sample of my dataset\n",
    "\n",
    "`<data>`\n",
    "\n",
    "`{paste data}`\n",
    "\n",
    "`</data>`\n",
    "\n",
    "</div>"
   ]
  },
  {
   "cell_type": "code",
   "execution_count": null,
   "id": "18639828",
   "metadata": {},
   "outputs": [
    {
     "data": {
      "text/plain": [
       "sentiment\n",
       "Positive    1731\n",
       "Negative     224\n",
       "Neutral        8\n",
       "Name: count, dtype: int64"
      ]
     },
     "metadata": {},
     "output_type": "display_data"
    }
   ],
   "source": [
    "# Install the necessary libraries\n",
    "# %pip install pandas textblob\n",
    "\n",
    "import pandas as pd  # Import the pandas library for data manipulation and analysis\n",
    "from textblob import TextBlob  # Import the TextBlob library for sentiment analysis\n",
    "\n",
    "# Function to classify sentiment\n",
    "def classify_sentiment(text):\n",
    "    \"\"\"\n",
    "    This function takes a text string as input and uses TextBlob to analyze its sentiment.\n",
    "    It returns 'Positive' if the polarity is greater than 0,\n",
    "    'Negative' if the polarity is less than 0, and 'Neutral' if the polarity is 0.\n",
    "    \"\"\"\n",
    "    analysis = TextBlob(text)  # Create a TextBlob object to analyze the sentiment of the text\n",
    "    if analysis.sentiment.polarity > 0:  # Check if the polarity is greater than 0\n",
    "        return 'Positive'  # Return 'Positive' for positive sentiment\n",
    "    elif analysis.sentiment.polarity < 0:  # Check if the polarity is less than 0\n",
    "        return 'Negative'  # Return 'Negative' for negative sentiment\n",
    "    else:\n",
    "        return 'Neutral'  # Return 'Neutral' for neutral sentiment\n",
    "\n",
    "# Apply sentiment analysis to the 'text' column of the reviews DataFrame\n",
    "reviews['sentiment'] = reviews['text'].apply(classify_sentiment)\n",
    "# This line applies the classify_sentiment function to each element in the 'text' column\n",
    "# and stores the result in a new column called 'sentiment'.\n",
    "\n",
    "# Calculate the distribution of sentiment values\n",
    "sentiment_distribution = reviews['sentiment'].value_counts()\n",
    "# This line counts the occurrences of each sentiment category\n",
    "# (Positive, Negative, Neutral) and stores the result in sentiment_distribution.\n",
    "\n",
    "# Display the sentiment distribution\n",
    "sentiment_distribution\n",
    "# This line prints the distribution of sentiments to the output.\n"
   ]
  },
  {
   "cell_type": "markdown",
   "id": "f10e050d",
   "metadata": {},
   "source": [
    "<div style=\"background-color: #ADD8E6; padding: 10px;\">\n",
    "\n",
    "🤖 \n",
    "<br>\n",
    "**There are many more types of analysis that can be done on this dataset, it's all just a matter of which questions you want answered! For example- you might want to do sentiment analysis over time, i.e., analyze how the sentiment of reviews has changed over time to identify trends or shifts in customer satisfaction.**\n",
    "\n",
    "</div>"
   ]
  }
 ],
 "metadata": {
  "kernelspec": {
   "display_name": "Python 3 (ipykernel)",
   "language": "python",
   "name": "python3"
  },
  "language_info": {
   "codemirror_mode": {
    "name": "ipython",
    "version": 3
   },
   "file_extension": ".py",
   "mimetype": "text/x-python",
   "name": "python",
   "nbconvert_exporter": "python",
   "pygments_lexer": "ipython3",
   "version": "3.11.7"
  }
 },
 "nbformat": 4,
 "nbformat_minor": 5
}
